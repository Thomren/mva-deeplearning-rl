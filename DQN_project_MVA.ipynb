{
 "cells": [
  {
   "cell_type": "markdown",
   "metadata": {},
   "source": [
    "**You may need to install [OpenCV](https://pypi.python.org/pypi/opencv-python) and [scikit-video](http://www.scikit-video.org/stable/).**"
   ]
  },
  {
   "cell_type": "code",
   "execution_count": 1,
   "metadata": {
    "ExecuteTime": {
     "end_time": "2020-02-22T12:30:43.250654Z",
     "start_time": "2020-02-22T12:30:41.445451Z"
    }
   },
   "outputs": [
    {
     "name": "stderr",
     "output_type": "stream",
     "text": [
      "Using TensorFlow backend.\n"
     ]
    }
   ],
   "source": [
    "import keras\n",
    "import numpy as np\n",
    "import io\n",
    "import base64\n",
    "from IPython.display import HTML\n",
    "import skvideo.io\n",
    "import cv2\n",
    "import json\n",
    "\n",
    "from keras.models import Sequential,model_from_json\n",
    "from keras.layers.core import Dense\n",
    "from keras.optimizers import sgd, Adam\n",
    "from keras.layers import Conv2D, MaxPooling2D, Activation, AveragePooling2D, Flatten, Reshape,BatchNormalization"
   ]
  },
  {
   "cell_type": "markdown",
   "metadata": {},
   "source": [
    "# MiniProject on Deep Reinforcement Learning"
   ]
  },
  {
   "cell_type": "markdown",
   "metadata": {},
   "source": [
    "__Notations__: $E_p$ is the expectation under probability $p$. Please justify each of your answer and widely comment your code."
   ]
  },
  {
   "cell_type": "markdown",
   "metadata": {},
   "source": [
    "# Context"
   ]
  },
  {
   "cell_type": "markdown",
   "metadata": {},
   "source": [
    "In a reinforcement learning algorithm, we modelize each step $t$ as an action $a_t$ obtained from a state $s_t$, i.e. $\\{(a_{t},s_{t})_{t\\leq T}\\}$ having the Markov property. We consider a discount factor $\\gamma \\in [0,1]$ that ensures convergence. The goal is to find among all the policies $\\pi$, one that maximizes the expected reward:\n",
    "\n",
    "\\begin{equation*}\n",
    "R(\\pi)=\\sum_{t\\leq T}E_{p^{\\pi}}[\\gamma^t r(s_{t},a_{t})] \\> ,\n",
    "\\end{equation*}\n",
    "\n",
    "where: \n",
    "\\begin{equation*}p^{\\pi}(a_{0},a_{1},s_{1},...,a_{T},s_{T})=p(a_{0})\\prod_{t=1}^{T}\\pi(a_{t}|s_{t})p(s_{t+1}|s_{t},a_{t}) \\> .\n",
    "\\end{equation*}\n",
    "\n",
    "We note the $Q$-function:\n",
    "\n",
    "\\begin{equation*}Q^\\pi(s,a)=E_{p^{\\pi}}[\\sum_{t\\leq T}\\gamma^{t}r(s_{t},a_{t})|s_{0}=s,a_{0}=a] \\> .\n",
    "\\end{equation*}\n",
    "\n",
    "Thus, the optimal Q function is:\n",
    "\\begin{equation*}\n",
    "Q^*(s,a)=\\max_{\\pi}Q^\\pi(s,a) \\> .\n",
    "\\end{equation*}\n",
    "\n",
    "In this project, we will apply the deep reinforcement learning techniques to a simple game: an agent will have to learn from scratch a policy that will permit it maximizing a reward."
   ]
  },
  {
   "cell_type": "markdown",
   "metadata": {},
   "source": [
    "## The environment, the agent and the game"
   ]
  },
  {
   "cell_type": "markdown",
   "metadata": {},
   "source": [
    "### The environment"
   ]
  },
  {
   "cell_type": "markdown",
   "metadata": {},
   "source": [
    "```Environment``` is an abstract class that represents the states, rewards, and actions to obtain the new state."
   ]
  },
  {
   "cell_type": "code",
   "execution_count": 2,
   "metadata": {
    "ExecuteTime": {
     "end_time": "2020-02-22T12:30:43.260280Z",
     "start_time": "2020-02-22T12:30:43.253380Z"
    }
   },
   "outputs": [],
   "source": [
    "class Environment(object):\n",
    "    def __init__(self):\n",
    "        pass\n",
    "\n",
    "    def act(self, act):\n",
    "        \"\"\"\n",
    "        One can act on the environment and obtain its reaction:\n",
    "        - the new state\n",
    "        - the reward of the new state\n",
    "        - should we continue the game?\n",
    "\n",
    "        :return: state, reward, game_over\n",
    "        \"\"\"\n",
    "        pass\n",
    "\n",
    "\n",
    "    def reset(self):\n",
    "        \"\"\"\n",
    "        Reinitialize the environment to a random state and returns\n",
    "        the original state\n",
    "\n",
    "        :return: state\n",
    "        \"\"\"\n",
    "        pass\n",
    "    \n",
    "    def draw(self):\n",
    "        \"\"\"\n",
    "        Visualize in the console or graphically the current state\n",
    "        \"\"\"\n",
    "        pass"
   ]
  },
  {
   "cell_type": "markdown",
   "metadata": {},
   "source": [
    "The method ```act``` allows to act on the environment at a given state $s_t$ (stored internally), via action $a_t$. The method will return the new state $s_{t+1}$, the reward $r(s_{t},a_{t})$ and determines if $t\\leq T$ (*game_over*).\n",
    "\n",
    "The method ```reset``` simply reinitializes the environment to a random state $s_0$.\n",
    "\n",
    "The method ```draw``` displays the current state $s_t$ (this is useful to check the behavior of the Agent).\n",
    "\n",
    "We modelize $s_t$ as a tensor, while $a_t$ is an integer."
   ]
  },
  {
   "cell_type": "markdown",
   "metadata": {},
   "source": [
    "### The Agent"
   ]
  },
  {
   "cell_type": "markdown",
   "metadata": {},
   "source": [
    "The goal of the ```Agent``` is to interact with the ```Environment``` by proposing actions $a_t$ obtained from a given state $s_t$ to attempt to maximize its __reward__ $r(s_t,a_t)$. We propose the following abstract class:"
   ]
  },
  {
   "cell_type": "code",
   "execution_count": 3,
   "metadata": {
    "ExecuteTime": {
     "end_time": "2020-02-22T12:30:43.270858Z",
     "start_time": "2020-02-22T12:30:43.262646Z"
    }
   },
   "outputs": [],
   "source": [
    "class Agent(object):\n",
    "    def __init__(self, epsilon=0.1, n_action=4):\n",
    "        self.epsilon = epsilon\n",
    "        self.n_action = n_action\n",
    "    \n",
    "    def set_epsilon(self,e):\n",
    "        self.epsilon = e\n",
    "\n",
    "    def act(self,s,train=True):\n",
    "        \"\"\" This function should return the next action to do:\n",
    "        an integer between 0 and 4 (not included) with a random exploration of epsilon\"\"\"\n",
    "        if train:\n",
    "            if np.random.rand() <= self.epsilon:\n",
    "                a = np.random.randint(0, self.n_action, size=1)[0]\n",
    "            else:\n",
    "                a = self.learned_act(s)\n",
    "        else: # in some cases, this can improve the performance.. remove it if poor performances\n",
    "            a = self.learned_act(s)\n",
    "\n",
    "        return a\n",
    "\n",
    "    def learned_act(self,s):\n",
    "        \"\"\" Act via the policy of the agent, from a given state s\n",
    "        it proposes an action a\"\"\"\n",
    "        pass\n",
    "\n",
    "    def reinforce(self, s, n_s, a, r, game_over_):\n",
    "        \"\"\" This function is the core of the learning algorithm. \n",
    "        It takes as an input the current state s_, the next state n_s_\n",
    "        the action a_ used to move from s_ to n_s_ and the reward r_.\n",
    "        \n",
    "        Its goal is to learn a policy.\n",
    "        \"\"\"\n",
    "        pass\n",
    "\n",
    "    def save(self):\n",
    "        \"\"\" This function returns basic stats if applicable: the\n",
    "        loss and/or the model\"\"\"\n",
    "        pass\n",
    "\n",
    "    def load(self):\n",
    "        \"\"\" This function allows to restore a model\"\"\"\n",
    "        pass"
   ]
  },
  {
   "cell_type": "markdown",
   "metadata": {},
   "source": [
    "***\n",
    "__Question 1__:\n",
    "Explain the function act. Why is ```epsilon``` essential?"
   ]
  },
  {
   "cell_type": "markdown",
   "metadata": {},
   "source": [
    "`epsilon` is essential during learning for exploration: without `epsilon`, the agent can easily be trapped in a particular suboptimal policy and will apply it repeatedly without trying something else (exploitation). `epsilon` allows to regularly try new policies in order to have a chance to escape from this kind of local minima."
   ]
  },
  {
   "cell_type": "markdown",
   "metadata": {},
   "source": [
    "***\n",
    "### The Game"
   ]
  },
  {
   "cell_type": "markdown",
   "metadata": {},
   "source": [
    "The ```Agent``` and the ```Environment``` work in an interlaced way as in the following (take some time to understand this code as it is the core of the project)\n",
    "\n",
    "```python\n",
    "\n",
    "epoch = 300\n",
    "env = Environment()\n",
    "agent = Agent()\n",
    "\n",
    "\n",
    "# Number of won games\n",
    "score = 0\n",
    "loss = 0\n",
    "\n",
    "\n",
    "for e in range(epoch):\n",
    "    # At each epoch, we restart to a fresh game and get the initial state\n",
    "    state = env.reset()\n",
    "    # This assumes that the games will end\n",
    "    game_over = False\n",
    "\n",
    "    win = 0\n",
    "    lose = 0\n",
    "    \n",
    "    while not game_over:\n",
    "        # The agent performs an action\n",
    "        action = agent.act(state)\n",
    "\n",
    "        # Apply an action to the environment, get the next state, the reward\n",
    "        # and if the games end\n",
    "        prev_state = state\n",
    "        state, reward, game_over = env.act(action)\n",
    "\n",
    "        # Update the counters\n",
    "        if reward > 0:\n",
    "            win = win + reward\n",
    "        if reward < 0:\n",
    "            lose = lose -reward\n",
    "\n",
    "        # Apply the reinforcement strategy\n",
    "        loss = agent.reinforce(prev_state, state,  action, reward, game_over)\n",
    "\n",
    "    # Save as a mp4\n",
    "    if e % 10 == 0:\n",
    "        env.draw(e)\n",
    "\n",
    "    # Update stats\n",
    "    score += win-lose\n",
    "\n",
    "    print(\"Epoch {:03d}/{:03d} | Loss {:.4f} | Win/lose count {}/{} ({})\"\n",
    "          .format(e, epoch, loss, win, lose, win-lose))\n",
    "    agent.save()\n",
    "```"
   ]
  },
  {
   "cell_type": "markdown",
   "metadata": {},
   "source": [
    "# The game, *eat cheese*"
   ]
  },
  {
   "cell_type": "markdown",
   "metadata": {},
   "source": [
    "A rat runs on an island and tries to eat as much as possible. The island is subdivided into $N\\times N$ cells, in which there are cheese (+0.5) and poisonous cells (-1). The rat has a visibility of 2 cells (thus it can see $5^2$ cells). The rat is given a time $T$ to accumulate as much food as possible. It can perform 4 actions: going up, down, left, right. \n",
    "\n",
    "The goal is to code an agent to solve this task that will learn by trial and error. We propose the following environment:"
   ]
  },
  {
   "cell_type": "code",
   "execution_count": 4,
   "metadata": {
    "ExecuteTime": {
     "end_time": "2020-02-22T12:30:43.304009Z",
     "start_time": "2020-02-22T12:30:43.273258Z"
    }
   },
   "outputs": [],
   "source": [
    "class Environment(object):\n",
    "    def __init__(self, grid_size=10, max_time=500, temperature=0.1):\n",
    "        grid_size = grid_size+4\n",
    "        self.grid_size = grid_size\n",
    "        self.max_time = max_time\n",
    "        self.temperature = temperature\n",
    "\n",
    "        #board on which one plays\n",
    "        self.board = np.zeros((grid_size,grid_size))\n",
    "        self.position = np.zeros((grid_size,grid_size))\n",
    "\n",
    "        # coordinate of the cat\n",
    "        self.x = 0\n",
    "        self.y = 1\n",
    "\n",
    "        # self time\n",
    "        self.t = 0\n",
    "\n",
    "        self.scale=16\n",
    "\n",
    "        self.to_draw = np.zeros((max_time+2, grid_size*self.scale, grid_size*self.scale, 3))\n",
    "\n",
    "\n",
    "    def draw(self,e):\n",
    "        skvideo.io.vwrite(str(e) + '.mp4', self.to_draw)\n",
    "\n",
    "    def get_frame(self,t):\n",
    "        b = np.zeros((self.grid_size,self.grid_size,3))+128\n",
    "        b[self.board>0,0] = 256\n",
    "        b[self.board < 0, 2] = 256\n",
    "        b[self.x,self.y,:]=256\n",
    "        b[-2:,:,:]=0\n",
    "        b[:,-2:,:]=0\n",
    "        b[:2,:,:]=0\n",
    "        b[:,:2,:]=0\n",
    "        \n",
    "        b =  cv2.resize(b, None, fx=self.scale, fy=self.scale, interpolation=cv2.INTER_NEAREST)\n",
    "\n",
    "        self.to_draw[t,:,:,:]=b\n",
    "\n",
    "\n",
    "    def act(self, action):\n",
    "        \"\"\"This function returns the new state, reward and decides if the\n",
    "        game ends.\"\"\"\n",
    "\n",
    "        self.get_frame(int(self.t))\n",
    "\n",
    "        self.position = np.zeros((self.grid_size, self.grid_size))\n",
    "\n",
    "        self.position[0:2,:]= -1\n",
    "        self.position[:,0:2] = -1\n",
    "        self.position[-2:, :] = -1\n",
    "        self.position[-2:, :] = -1\n",
    "\n",
    "        self.position[self.x, self.y] = 1\n",
    "        if action == 0:\n",
    "            if self.x == self.grid_size-3:\n",
    "                self.x = self.x-1\n",
    "            else:\n",
    "                self.x = self.x + 1\n",
    "        elif action == 1:\n",
    "            if self.x == 2:\n",
    "                self.x = self.x+1\n",
    "            else:\n",
    "                self.x = self.x-1\n",
    "        elif action == 2:\n",
    "            if self.y == self.grid_size - 3:\n",
    "                self.y = self.y - 1\n",
    "            else:\n",
    "                self.y = self.y + 1\n",
    "        elif action == 3:\n",
    "            if self.y == 2:\n",
    "                self.y = self.y + 1\n",
    "            else:\n",
    "                self.y = self.y - 1\n",
    "        else:\n",
    "            RuntimeError('Error: action not recognized')\n",
    "\n",
    "        self.t = self.t + 1\n",
    "        reward = self.board[self.x, self.y]\n",
    "        self.board[self.x, self.y] = 0\n",
    "        game_over = self.t > self.max_time\n",
    "        state = np.concatenate((self.board.reshape(self.grid_size, self.grid_size,1),\n",
    "                        self.position.reshape(self.grid_size, self.grid_size,1)),axis=2)\n",
    "        state = state[self.x-2:self.x+3,self.y-2:self.y+3,:]\n",
    "\n",
    "        return state, reward, game_over\n",
    "\n",
    "    def reset(self):\n",
    "        \"\"\"This function resets the game and returns the initial state\"\"\"\n",
    "\n",
    "        self.x = np.random.randint(3, self.grid_size-3, size=1)[0]\n",
    "        self.y = np.random.randint(3, self.grid_size-3, size=1)[0]\n",
    "\n",
    "\n",
    "        bonus = 0.5*np.random.binomial(1,self.temperature,size=self.grid_size**2)\n",
    "        bonus = bonus.reshape(self.grid_size,self.grid_size)\n",
    "\n",
    "        malus = -1.0*np.random.binomial(1,self.temperature,size=self.grid_size**2)\n",
    "        malus = malus.reshape(self.grid_size, self.grid_size)\n",
    "\n",
    "        self.to_draw = np.zeros((self.max_time+2, self.grid_size*self.scale, self.grid_size*self.scale, 3))\n",
    "\n",
    "\n",
    "        malus[bonus>0]=0\n",
    "\n",
    "        self.board = bonus + malus\n",
    "\n",
    "        self.position = np.zeros((self.grid_size, self.grid_size))\n",
    "        self.position[0:2,:]= -1\n",
    "        self.position[:,0:2] = -1\n",
    "        self.position[-2:, :] = -1\n",
    "        self.position[-2:, :] = -1\n",
    "        self.board[self.x,self.y] = 0\n",
    "        self.t = 0\n",
    "\n",
    "        state = np.concatenate((\n",
    "                               self.board.reshape(self.grid_size, self.grid_size,1),\n",
    "                        self.position.reshape(self.grid_size, self.grid_size,1)),axis=2)\n",
    "\n",
    "        state = state[self.x - 2:self.x + 3, self.y - 2:self.y + 3, :]\n",
    "        return state"
   ]
  },
  {
   "cell_type": "markdown",
   "metadata": {},
   "source": [
    "The following elements are important because they correspond to the hyper parameters for this project:"
   ]
  },
  {
   "cell_type": "code",
   "execution_count": 5,
   "metadata": {
    "ExecuteTime": {
     "end_time": "2020-02-22T12:30:43.311827Z",
     "start_time": "2020-02-22T12:30:43.306211Z"
    }
   },
   "outputs": [],
   "source": [
    "# parameters\n",
    "size = 13\n",
    "T = 200\n",
    "temperature = 0.3\n",
    "epochs_train= 51 # set small when debugging\n",
    "epochs_test = 11 # set small when debugging\n",
    "\n",
    "# display videos\n",
    "def display_videos(name):\n",
    "    video = io.open(name, 'r+b').read()\n",
    "    encoded = base64.b64encode(video)\n",
    "    return '''<video alt=\"test\" controls>\n",
    "                <source src=\"data:video/mp4;base64,{0}\" type=\"video/mp4\" />\n",
    "             </video>'''.format(encoded.decode('ascii'))"
   ]
  },
  {
   "cell_type": "markdown",
   "metadata": {},
   "source": [
    "__Question 2__ Explain the use of the arrays ```position``` and ```board```."
   ]
  },
  {
   "cell_type": "markdown",
   "metadata": {},
   "source": [
    "The array `position` stores the position of the mouse in the grid and the borders: it is full of zeros excepted at the mouse position where the value is 1 and on the borders where it is -1. The mouse can move one cell left, right, up or bottom and \"bounces\" on walls.\n",
    "\n",
    "The array `board` stores the island in a grid of the same size: cells with cheese have a value of 0.5, poisonous cells have a value of -1 and empty cells have a value of 0. Values are set to 0 when the mouse passes in a cell."
   ]
  },
  {
   "cell_type": "markdown",
   "metadata": {},
   "source": [
    "## Random Agent"
   ]
  },
  {
   "cell_type": "markdown",
   "metadata": {},
   "source": [
    "***\n",
    "__Question 3__ Implement a random Agent (only ```learned_act``` needs to be implemented):"
   ]
  },
  {
   "cell_type": "code",
   "execution_count": 6,
   "metadata": {
    "ExecuteTime": {
     "end_time": "2020-02-22T12:30:43.317126Z",
     "start_time": "2020-02-22T12:30:43.313549Z"
    }
   },
   "outputs": [],
   "source": [
    "class RandomAgent(Agent):\n",
    "    def __init__(self):\n",
    "        super(RandomAgent, self).__init__()\n",
    "        pass\n",
    "\n",
    "    def learned_act(self, s):\n",
    "        # Choose random direction between 0 and 3\n",
    "        return np.random.randint(0, 4)"
   ]
  },
  {
   "cell_type": "markdown",
   "metadata": {},
   "source": [
    "***\n",
    "***\n",
    "__Question 4__ Visualize the game moves. You need to fill in the following function for the evaluation:"
   ]
  },
  {
   "cell_type": "code",
   "execution_count": 7,
   "metadata": {
    "ExecuteTime": {
     "end_time": "2020-02-22T12:30:43.326894Z",
     "start_time": "2020-02-22T12:30:43.318753Z"
    }
   },
   "outputs": [],
   "source": [
    "def test(agent,env,epochs,prefix=''):\n",
    "    # Number of won games\n",
    "    score = 0\n",
    "\n",
    "    for e in range(epochs):\n",
    "        # Reset the environment\n",
    "        state = env.reset()\n",
    "        # This assumes that the games will end\n",
    "        game_over = False\n",
    "\n",
    "        win = 0\n",
    "        lose = 0\n",
    "\n",
    "        while not game_over:\n",
    "            # The agent performs an action using the learned policy\n",
    "            action = agent.act(state, train=False)\n",
    "\n",
    "            # Apply an action to the environment, get the next state, the reward\n",
    "            # and if the games end\n",
    "            prev_state = state\n",
    "            state, reward, game_over = env.act(action)\n",
    "\n",
    "            # Update the counters\n",
    "            if reward > 0:\n",
    "                win = win + reward\n",
    "            if reward < 0:\n",
    "                lose = lose - reward\n",
    "        \n",
    "        # Save as a mp4\n",
    "        env.draw(prefix+str(e))\n",
    "\n",
    "        # Update stats\n",
    "        score = score + win-lose\n",
    "\n",
    "        print(\"Win/lose count {}/{}. Average score ({:.2f})\"\n",
    "              .format(win, lose, score/(1+e)))\n",
    "    size = env.grid_size - 4\n",
    "    best_possible_score = size**2 * env.temperature * 0.5 # ignoring that bonuses can be surrounded by maluses\n",
    "    print(f'Final score: {score/epochs:.2f} (mean best achievable score: {best_possible_score:.2f})')\n",
    "    print(f'{100*score/epochs/best_possible_score:.2f}%')"
   ]
  },
  {
   "cell_type": "code",
   "execution_count": 8,
   "metadata": {
    "ExecuteTime": {
     "end_time": "2020-02-22T12:30:50.624961Z",
     "start_time": "2020-02-22T12:30:43.329128Z"
    }
   },
   "outputs": [
    {
     "name": "stdout",
     "output_type": "stream",
     "text": [
      "Win/lose count 9.5/19.0. Average score (-9.50)\n",
      "Win/lose count 9.5/14.0. Average score (-7.00)\n",
      "Win/lose count 9.5/15.0. Average score (-6.50)\n",
      "Win/lose count 5.5/15.0. Average score (-7.25)\n",
      "Win/lose count 8.5/20.0. Average score (-8.10)\n",
      "Win/lose count 10.5/16.0. Average score (-7.67)\n",
      "Win/lose count 7.5/11.0. Average score (-7.07)\n",
      "Win/lose count 5.0/10.0. Average score (-6.81)\n",
      "Win/lose count 7.0/8.0. Average score (-6.17)\n",
      "Win/lose count 9.5/17.0. Average score (-6.30)\n",
      "Win/lose count 7.0/15.0. Average score (-6.45)\n",
      "Final score: -6.45 (mean best achievable score: 25.35)\n",
      "-25.46%\n"
     ]
    },
    {
     "data": {
      "text/html": [
       "<video alt=\"test\" controls>\n",
       "                <source src=\"data:video/mp4;base64,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\" type=\"video/mp4\" />\n",
       "             </video>"
      ],
      "text/plain": [
       "<IPython.core.display.HTML object>"
      ]
     },
     "execution_count": 8,
     "metadata": {},
     "output_type": "execute_result"
    }
   ],
   "source": [
    "# Initialize the game\n",
    "env = Environment(grid_size=size, max_time=T,temperature=temperature)\n",
    "\n",
    "# Initialize the agent!\n",
    "agent = RandomAgent()\n",
    "\n",
    "test(agent,env,epochs_test,prefix='random')\n",
    "HTML(display_videos('random0.mp4'))"
   ]
  },
  {
   "cell_type": "markdown",
   "metadata": {},
   "source": [
    "***\n",
    "## DQN"
   ]
  },
  {
   "cell_type": "markdown",
   "metadata": {},
   "source": [
    "Let us assume here that $T=\\infty$.\n",
    "\n",
    "***\n",
    "__Question 5__ Let $\\pi$ be a policy, show that:\n",
    "\n",
    "\\begin{equation*}\n",
    "Q^{\\pi}(s,a)=E_{(s',a')\\sim p(.|s,a)}[r(s,a)+\\gamma Q^{\\pi}(s',a')]\n",
    "\\end{equation*}\n",
    "\n",
    "Then, show that for the optimal policy $\\pi^*$ (we assume its existence), the following holds: \n",
    "\n",
    "\\begin{equation*}\n",
    "Q^{*}(s,a)=E_{s'\\sim \\pi^*(.|s,a)}[r(s,a)+\\gamma\\max_{a'}Q^{*}(s',a')].\n",
    "\\end{equation*}\n",
    "Finally, deduce that a plausible objective is:\n",
    "\n",
    "\\begin{equation*}\n",
    "\\mathcal{L}(\\theta)=E_{s' \\sim \\pi^*(.|s,a)}\\Vert r+\\gamma\\max\\max_{a'}Q(s',a',\\theta)-Q(s,a,\\theta)\\Vert^{2}.\n",
    "\\end{equation*}\n",
    "\n",
    "\n"
   ]
  },
  {
   "cell_type": "markdown",
   "metadata": {},
   "source": [
    "We have: \n",
    "$$\n",
    "\\begin{align*}\n",
    "Q^\\pi(s,a) &= E_{p^{\\pi}}[\\sum_{t=0}^{\\infty}\\gamma^{t}r(s_{t},a_{t})|s_{0}=s,a_{0}=a] \\\\\n",
    "    &= E_{p^{\\pi}}[r(s_0,a_0)|s_{0}=s,a_{0}=a] + \\gamma E_{p^{\\pi}}[\\sum_{t=1}^{\\infty}\\gamma^{t-1}r(s_{t},a_{t})|s_{0}=s,a_{0}=a] \\\\\n",
    "    &= r(s,a) + \\gamma E_{p^{\\pi}}[\\sum_{t=0}^{\\infty}\\gamma^{t}r(s_{t+1},a_{t+1})|s_{0}=s,a_{0}=a] \\\\\n",
    "    &= r(s,a) + \\sum_{s', a'} p(s',a'|s,a) \\gamma E_{p^{\\pi}}[\\sum_{t=0}^{\\infty}\\gamma^{t}r(s_{t+1},a_{t+1})|s_{0}=s,a_{0}=a,s_1=s', s_1=a'] \\\\\n",
    "    &= r(s,a) + \\sum_{s', a'} p(s',a'|s,a) \\gamma E_{p^{\\pi}}[\\sum_{t=0}^{\\infty}\\gamma^{t}r(s_{t+1},a_{t+1})|s_1=s', s_1=a'] \\hbox{ (Markov property)}\\\\\n",
    "    &= r(s,a) + \\sum_{s', a'} p(s',a'|s,a) \\gamma E_{p^{\\pi}}[\\sum_{t=0}^{\\infty}\\gamma^{t}r(s_{t},a_{t})|s_0=s', s_0=a'] \\hbox{ (Stationnarity)}\\\\\n",
    "    &= r(s,a) + \\sum_{s', a'} p(s',a'|s,a) \\gamma Q^{\\pi}(s',a')\\\\\n",
    "    &= r(s,a) + E_{(s',a')\\sim p(.|s,a)}[\\gamma Q^{\\pi}(s',a')]\\\\\n",
    "    &= E_{(s',a')\\sim p(.|s,a)}[r(s,a) + \\gamma Q^{\\pi}(s',a')]\n",
    "\\end{align*}\n",
    "$$\n",
    "\n",
    "Furthermore:\n",
    "$$\n",
    "\\begin{align*}\n",
    "Q^*(s,a) &= \\max_{\\pi} Q^\\pi(s,a) \\\\\n",
    "    &= \\max_{\\pi} E_{(s',a')\\sim p(.|s,a)}[r(s,a) + \\gamma Q^{\\pi}(s',a')] \\\\\n",
    "    &= r(s,a) + \\gamma \\max_{\\pi} E_{(s',a')\\sim p(.|s,a)}[Q^{\\pi}(s',a')] \\\\\n",
    "    &= r(s,a) + \\gamma \\max_{\\pi} \\sum_{s'} \\sum_{a'} p(s'|s,a) \\pi(a'|s') Q^{\\pi}(s',a') \\\\\n",
    "    &\\leq r(s,a) + \\gamma \\sum_{s'}  p(s'|s,a) \\max_{\\pi} \\sum_{a'} \\pi(a'|s') Q^{\\pi}(s',a') \\\\\n",
    "    &\\leq r(s,a) + \\gamma \\sum_{s'}  p(s'|s,a) \\max_{\\pi} \\max_{a'} Q^{\\pi}(s',a') \\\\\n",
    "    &= r(s,a) + \\gamma E_{s'\\sim p(.|s,a)}[\\max_{a'}Q^{*}(s',a')] \\\\\n",
    "    &= E_{s'\\sim p(.|s,a)}[r(s,a)+\\gamma\\max_{a'}Q^{*}(s',a')]\n",
    "\\end{align*}\n",
    "$$\n",
    "\n",
    "Moreover, if we define a policy $\\bar\\pi$ such that for all states $s'$, $\\bar\\pi(\\cdot|s') \\in \\arg\\max_{\\pi} \\sum_{a'} \\pi(a'|s') Q^{\\pi}(s',a')$, then we have:\n",
    "$$\n",
    "\\begin{align*}\n",
    "\\sum_{s'}  p(s'|s,a) \\max_{\\pi} \\sum_{a'} \\pi(a'|s') Q^{\\pi}(s',a') &= \\sum_{s'}  p(s'|s,a) \\sum_{a'} \\bar\\pi(a'|s') Q^{\\bar\\pi}(s',a')\\\\\n",
    "    &\\leq \\max_{\\pi} \\sum_{s'} \\sum_{a'} p(s'|s,a) \\pi(a'|s') Q^{\\pi}(s',a')\n",
    "\\end{align*}\n",
    "$$\n",
    "\n",
    "Therefore the previous inequalities are equalities and\n",
    "$$Q^*(s,a) = E_{s'\\sim p(.|s,a)}[r(s,a)+\\gamma\\max_{a'}Q^{*}(s',a')]$$\n",
    "\n",
    "We finally have:\n",
    "$$\n",
    "E_{s'\\sim p(.|s,a)}[r(s,a)+\\gamma\\max_{a'}Q^{*}(s',a') - Q^*(s,a)] = 0\n",
    "$$\n",
    "So $\\mathcal{L}(\\theta)$ is a plausible objective to approximate $Q^*$"
   ]
  },
  {
   "cell_type": "markdown",
   "metadata": {},
   "source": [
    "***\n",
    "The DQN-learning algorithm relies on these derivations to train the parameters $\\theta$ of a Deep Neural Network:\n",
    "\n",
    "1. At the state $s_t$, select the action $a_t$ with best reward using $Q_t$ and store the results;\n",
    "\n",
    "2. Obtain the new state $s_{t+1}$ from the environment $p$;\n",
    "\n",
    "3. Store $(s_t,a_t,s_{t+1})$;\n",
    "\n",
    "4. Obtain $Q_{t+1}$ by minimizing  $\\mathcal{L}$ from a recovered batch from the previously stored results.\n",
    "\n",
    "***\n",
    "__Question 6__ Implement the class ```Memory``` that stores moves (in a replay buffer) via ```remember``` and provides a ```random_access``` to these. Specify a maximum memory size to avoid side effects. You can for example use a ```list()``` and set by default ```max_memory=100```."
   ]
  },
  {
   "cell_type": "code",
   "execution_count": 9,
   "metadata": {
    "ExecuteTime": {
     "end_time": "2020-02-22T12:30:50.633119Z",
     "start_time": "2020-02-22T12:30:50.627606Z"
    }
   },
   "outputs": [],
   "source": [
    "class Memory(object):\n",
    "    def __init__(self, max_memory=100):\n",
    "        self.max_memory = max_memory\n",
    "        self.memory = list()\n",
    "        self.position = 0\n",
    "        \n",
    "    def remember(self, m):\n",
    "        if len(self.memory) < self.max_memory:\n",
    "            self.memory.append(m)\n",
    "        else:\n",
    "            self.memory[self.position] = m\n",
    "            self.position  = (self.position + 1) % self.max_memory\n",
    "            \n",
    "    def random_access(self):\n",
    "        return self.memory[np.random.randint(0, len(self.memory))]"
   ]
  },
  {
   "cell_type": "markdown",
   "metadata": {},
   "source": [
    "***\n",
    "The pipeline we will use for training is given below:"
   ]
  },
  {
   "cell_type": "code",
   "execution_count": 10,
   "metadata": {
    "ExecuteTime": {
     "end_time": "2020-02-22T12:30:50.642814Z",
     "start_time": "2020-02-22T12:30:50.634813Z"
    }
   },
   "outputs": [],
   "source": [
    "def train(agent,env,epoch,prefix=''):\n",
    "    # Number of won games\n",
    "    score = 0\n",
    "    loss = 0\n",
    "\n",
    "    for e in range(epoch):\n",
    "        # At each epoch, we restart to a fresh game and get the initial state\n",
    "        state = env.reset()\n",
    "        # This assumes that the games will terminate\n",
    "        game_over = False\n",
    "\n",
    "        win = 0\n",
    "        lose = 0\n",
    "\n",
    "        while not game_over:\n",
    "            # The agent performs an action\n",
    "            action = agent.act(state)\n",
    "\n",
    "            # Apply an action to the environment, get the next state, the reward\n",
    "            # and if the games end\n",
    "            prev_state = state\n",
    "            state, reward, game_over = env.act(action)\n",
    "\n",
    "            # Update the counters\n",
    "            if reward > 0:\n",
    "                win = win + reward\n",
    "            if reward < 0:\n",
    "                lose = lose -reward\n",
    "\n",
    "            # Apply the reinforcement strategy\n",
    "            loss = agent.reinforce(prev_state, state,  action, reward, game_over, t=(e%10 == 0 and e > 0))\n",
    "\n",
    "        # Save as a mp4\n",
    "        if e % 10 == 0:\n",
    "            env.draw(prefix+str(e))\n",
    "\n",
    "        # Update stats\n",
    "        score += win-lose\n",
    "\n",
    "        print(\"Epoch {:03d}/{:03d} | Loss {:.4f} | Win/lose count {}/{} ({})\"\n",
    "              .format(e, epoch, loss, win, lose, win-lose))\n",
    "        agent.save(name_weights=prefix+'model.h5',name_model=prefix+'model.json')"
   ]
  },
  {
   "cell_type": "markdown",
   "metadata": {},
   "source": [
    "***\n",
    "__Question 7__ Implement the DQN training algorithm using a cascade of fully connected layers. You can use different learning rate, batch size or memory size parameters. In particular, the loss might oscillate while the player will start to win the games. You have to find a good criterium."
   ]
  },
  {
   "cell_type": "code",
   "execution_count": 11,
   "metadata": {
    "ExecuteTime": {
     "end_time": "2020-02-22T12:30:50.666889Z",
     "start_time": "2020-02-22T12:30:50.645715Z"
    }
   },
   "outputs": [],
   "source": [
    "class DQN(Agent):\n",
    "    def __init__(self, grid_size,  epsilon = 0.1, memory_size=100, batch_size = 16,n_state=2):\n",
    "        super(DQN, self).__init__(epsilon = epsilon)\n",
    "\n",
    "        # Discount for Q learning\n",
    "        self.discount = 0.7\n",
    "        \n",
    "        self.grid_size = grid_size\n",
    "        \n",
    "        # number of state\n",
    "        self.n_state = n_state\n",
    "\n",
    "        # Memory\n",
    "        self.memory = Memory(memory_size)\n",
    "        \n",
    "        # Batch size when learning\n",
    "        self.batch_size = batch_size\n",
    "\n",
    "    def learned_act(self, s):\n",
    "        q_values = self.model.predict(s.reshape(1, *s.shape)).flatten()\n",
    "        \n",
    "        return np.argmax(q_values)\n",
    "\n",
    "    def reinforce(self, s_, n_s_, a_, r_, game_over_, t=False):\n",
    "        # Two steps: first memorize the states, second learn from the pool\n",
    "\n",
    "        self.memory.remember([s_, n_s_, a_, r_, game_over_])\n",
    "        \n",
    "        input_states = np.zeros((self.batch_size, 5, 5, self.n_state))\n",
    "        target_q = np.zeros((self.batch_size, 4))\n",
    "        \n",
    "        batch = [self.memory.random_access() for i in range(self.batch_size)]\n",
    "        input_states = np.stack([m[0] for m in batch])\n",
    "        next_states = np.stack([m[1] for m in batch])\n",
    "        actions = np.stack([m[2] for m in batch])\n",
    "        rewards = np.stack([m[3] for m in batch])\n",
    "        game_overs = np.stack([m[4] for m in batch])\n",
    "        \n",
    "        target_q = self.model.predict(input_states)\n",
    "\n",
    "        target_q[np.arange(self.batch_size), actions] = rewards + (1 - game_overs) * self.discount * np.amax(\n",
    "                self.model.predict(next_states))\n",
    "\n",
    "        # HINT: Clip the target to avoid exploiding gradients.. -- clipping is a bit tighter\n",
    "        target_q = np.clip(target_q, -3, 3)\n",
    "\n",
    "        l = self.model.train_on_batch(input_states, target_q)\n",
    "        return l\n",
    "\n",
    "    def save(self,name_weights='model.h5',name_model='model.json'):\n",
    "        self.model.save_weights(name_weights, overwrite=True)\n",
    "        with open(name_model, \"w\") as outfile:\n",
    "            json.dump(self.model.to_json(), outfile)\n",
    "            \n",
    "    def load(self,name_weights='model.h5',name_model='model.json'):\n",
    "        with open(name_model, \"r\") as jfile:\n",
    "            model = model_from_json(json.load(jfile))\n",
    "        model.load_weights(name_weights)\n",
    "        model.compile(\"sgd\", \"mse\")\n",
    "        self.model = model\n",
    "\n",
    "            \n",
    "class DQN_FC(DQN):\n",
    "    def __init__(self, *args, lr=0.1,**kwargs):\n",
    "        super(DQN_FC, self).__init__( *args,**kwargs)\n",
    "        \n",
    "        # NN Model\n",
    "        \n",
    "        model = Sequential([\n",
    "            Flatten(input_shape=(5, 5, self.n_state)),\n",
    "            #Dense(32, activation=\"relu\"),\n",
    "            Dense(16, activation=\"relu\"),\n",
    "            Dense(4)\n",
    "        ])\n",
    "        \n",
    "        model.compile(sgd(lr=lr, decay=1e-4, momentum=0.0), \"mse\")\n",
    "        self.model = model\n",
    "        "
   ]
  },
  {
   "cell_type": "code",
   "execution_count": 12,
   "metadata": {
    "ExecuteTime": {
     "end_time": "2020-02-22T12:31:38.503101Z",
     "start_time": "2020-02-22T12:30:50.668797Z"
    },
    "scrolled": false
   },
   "outputs": [
    {
     "name": "stdout",
     "output_type": "stream",
     "text": [
      "Epoch 000/051 | Loss 0.0016 | Win/lose count 4.0/4.0 (0.0)\n",
      "Epoch 001/051 | Loss 0.0194 | Win/lose count 4.0/2.0 (2.0)\n",
      "Epoch 002/051 | Loss 0.0100 | Win/lose count 6.0/3.0 (3.0)\n",
      "Epoch 003/051 | Loss 0.0069 | Win/lose count 7.0/4.0 (3.0)\n",
      "Epoch 004/051 | Loss 0.0168 | Win/lose count 3.5/1.0 (2.5)\n",
      "Epoch 005/051 | Loss 0.0069 | Win/lose count 5.0/5.0 (0.0)\n",
      "Epoch 006/051 | Loss 0.0077 | Win/lose count 4.0/5.0 (-1.0)\n",
      "Epoch 007/051 | Loss 0.0030 | Win/lose count 1.5/3.0 (-1.5)\n",
      "Epoch 008/051 | Loss 0.0050 | Win/lose count 6.0/3.0 (3.0)\n",
      "Epoch 009/051 | Loss 0.0028 | Win/lose count 4.0/3.0 (1.0)\n",
      "Epoch 010/051 | Loss 0.0090 | Win/lose count 6.5/2.0 (4.5)\n",
      "Epoch 011/051 | Loss 0.0055 | Win/lose count 6.0/5.0 (1.0)\n",
      "Epoch 012/051 | Loss 0.0161 | Win/lose count 2.0/1.0 (1.0)\n",
      "Epoch 013/051 | Loss 0.0024 | Win/lose count 2.0/2.0 (0.0)\n",
      "Epoch 014/051 | Loss 0.0045 | Win/lose count 4.5/2.0 (2.5)\n",
      "Epoch 015/051 | Loss 0.0144 | Win/lose count 6.5/3.0 (3.5)\n",
      "Epoch 016/051 | Loss 0.0124 | Win/lose count 2.0/4.0 (-2.0)\n",
      "Epoch 017/051 | Loss 0.0019 | Win/lose count 3.0/1.0 (2.0)\n",
      "Epoch 018/051 | Loss 0.0010 | Win/lose count 3.0/7.0 (-4.0)\n",
      "Epoch 019/051 | Loss 0.0137 | Win/lose count 6.0/10.0 (-4.0)\n",
      "Epoch 020/051 | Loss 0.0131 | Win/lose count 8.5/2.0 (6.5)\n",
      "Epoch 021/051 | Loss 0.0032 | Win/lose count 5.0/2.0 (3.0)\n",
      "Epoch 022/051 | Loss 0.0153 | Win/lose count 2.5/6.0 (-3.5)\n",
      "Epoch 023/051 | Loss 0.0032 | Win/lose count 10.5/3.0 (7.5)\n",
      "Epoch 024/051 | Loss 0.0068 | Win/lose count 9.0/9.0 (0.0)\n",
      "Epoch 025/051 | Loss 0.0121 | Win/lose count 8.5/2.0 (6.5)\n",
      "Epoch 026/051 | Loss 0.0060 | Win/lose count 9.5/4.0 (5.5)\n",
      "Epoch 027/051 | Loss 0.0139 | Win/lose count 9.5/5.0 (4.5)\n",
      "Epoch 028/051 | Loss 0.0091 | Win/lose count 17.5/6.0 (11.5)\n",
      "Epoch 029/051 | Loss 0.0032 | Win/lose count 4.5/4.0 (0.5)\n",
      "Epoch 030/051 | Loss 0.0086 | Win/lose count 9.5/4.0 (5.5)\n",
      "Epoch 031/051 | Loss 0.0110 | Win/lose count 8.5/1.0 (7.5)\n",
      "Epoch 032/051 | Loss 0.0074 | Win/lose count 6.0/3.0 (3.0)\n",
      "Epoch 033/051 | Loss 0.0083 | Win/lose count 9.0/8.0 (1.0)\n",
      "Epoch 034/051 | Loss 0.0154 | Win/lose count 11.5/2.0 (9.5)\n",
      "Epoch 035/051 | Loss 0.0116 | Win/lose count 0.5/2.0 (-1.5)\n",
      "Epoch 036/051 | Loss 0.0110 | Win/lose count 16.0/7.0 (9.0)\n",
      "Epoch 037/051 | Loss 0.0027 | Win/lose count 7.5/4.0 (3.5)\n",
      "Epoch 038/051 | Loss 0.0070 | Win/lose count 10.5/3.0 (7.5)\n",
      "Epoch 039/051 | Loss 0.0198 | Win/lose count 17.0/3.0 (14.0)\n",
      "Epoch 040/051 | Loss 0.0127 | Win/lose count 1.0/2.0 (-1.0)\n",
      "Epoch 041/051 | Loss 0.0037 | Win/lose count 10.0/6.0 (4.0)\n",
      "Epoch 042/051 | Loss 0.0030 | Win/lose count 6.5/1.0 (5.5)\n",
      "Epoch 043/051 | Loss 0.0111 | Win/lose count 7.5/1.0 (6.5)\n",
      "Epoch 044/051 | Loss 0.0132 | Win/lose count 8.0/7.0 (1.0)\n",
      "Epoch 045/051 | Loss 0.0069 | Win/lose count 11.5/3.0 (8.5)\n",
      "Epoch 046/051 | Loss 0.0046 | Win/lose count 9.5/2.0 (7.5)\n",
      "Epoch 047/051 | Loss 0.0093 | Win/lose count 7.0/4.0 (3.0)\n",
      "Epoch 048/051 | Loss 0.0068 | Win/lose count 13.0/2.0 (11.0)\n",
      "Epoch 049/051 | Loss 0.0022 | Win/lose count 7.0/1.0 (6.0)\n",
      "Epoch 050/051 | Loss 0.0171 | Win/lose count 15.5/5.0 (10.5)\n"
     ]
    },
    {
     "data": {
      "text/html": [
       "<video alt=\"test\" controls>\n",
       "                <source src=\"data:video/mp4;base64,AAAAIGZ0eXBpc29tAAACAGlzb21pc28yYXZjMW1wNDEAAAAIZnJlZQAAGLRtZGF0AAACrQYF//+p3EXpvebZSLeWLNgg2SPu73gyNjQgLSBjb3JlIDE1NSByMjkxNyAwYTg0ZDk4IC0gSC4yNjQvTVBFRy00IEFWQyBjb2RlYyAtIENvcHlsZWZ0IDIwMDMtMjAxOCAtIGh0dHA6Ly93d3cudmlkZW9sYW4ub3JnL3gyNjQuaHRtbCAtIG9wdGlvbnM6IGNhYmFjPTEgcmVmPTMgZGVibG9jaz0xOjA6MCBhbmFseXNlPTB4MToweDExMSBtZT1oZXggc3VibWU9NyBwc3k9MSBwc3lfcmQ9MS4wMDowLjAwIG1peGVkX3JlZj0xIG1lX3JhbmdlPTE2IGNocm9tYV9tZT0xIHRyZWxsaXM9MSA4eDhkY3Q9MCBjcW09MCBkZWFkem9uZT0yMSwxMSBmYXN0X3Bza2lwPTEgY2hyb21hX3FwX29mZnNldD00IHRocmVhZHM9OCBsb29rYWhlYWRfdGhyZWFkcz0xIHNsaWNlZF90aHJlYWRzPTAgbnI9MCBkZWNpbWF0ZT0xIGludGVybGFjZWQ9MCBibHVyYXlfY29tcGF0PTAgY29uc3RyYWluZWRfaW50cmE9MCBiZnJhbWVzPTMgYl9weXJhbWlkPTIgYl9hZGFwdD0xIGJfYmlhcz0wIGRpcmVjdD0xIHdlaWdodGI9MSBvcGVuX2dvcD0wIHdlaWdodHA9MiBrZXlpbnQ9MjUwIGtleWludF9taW49MjUgc2NlbmVjdXQ9NDAgaW50cmFfcmVmcmVzaD0wIHJjX2xvb2thaGVhZD00MCByYz1jcmYgbWJ0cmVlPTEgY3JmPTIzLjAgcWNvbXA9MC42MCBxcG1pbj0wIHFwbWF4PTY5IHFwc3RlcD00IGlwX3JhdGlvPTEuNDAgYXE9MToxLjAwAIAAAAMUZYiEADf//vaH+BTZWBP+Wb/9DX/cj9uPrP1xYyEE31qvIejAGS+1H+b/rFFs6Z6UB/fgCJQAc24ZwpJw4v/ApLdW+BTLYTkUN8gxuoYfkXQodhup/WWB847aS11YpPytGVZcdt/H5VDghQEMsIlgIcxNCcwVvTs8oZoRB4NyYgjO59Mq5Osx77fs2pnNjWt86G4+w2hi0/QrGC850dKYJHp+dkisL8lYJH5+ebMuAViKebPgSegrKOPPj+1Ao6X+12S/bh7W2j3g0xg84yjeIj/KqlHOqKce+vHA99phk7cEXmI5qwe6aiQXbnYXvN/KzDg/SBMNKe8fGqcXU2kMH8DER42ccJQM81D+4ST2L0wLPl+ITRFijOxyh8zlynT9lTvVsxG5BiuPMGueUz5Mwgbqq6bmW6W2SR0q/SMx/O9uVwfvZ3e10Na6dV0gsR4F5xwQc+eznePpnnvs34azY9mLZMuB8ik3pg/g/ACaAezZqT8eCEx8HjU0w3CbJGDVPi2Zj8xawvbiiYmIRAAMbhiZndRA93+IH1DewwHxoNJAu5hS+zvabFgIpAfCBb48lN9WVZwGtTuDFnAuKh3JEiZC5u0oBq1LogdfOAj/Sl/yL+3Gsng/oXcaYuZnHXSTfnBroqjVGNecqrzK9gfZT/JW7Fbf0QqZf/BWKazSewB1ntSkABunBASZe17oMm2krgeGi2fKPz/kmr4XIeFV56odV2SBDf1cW70RzjtrttmNkLWRRqmW+4jLJCj32XBYjQVhNluM6YKB8SMKSpNSiC+k+/okwm5PWAGUlS/KXich17gH15/QDstyRdm8uZhSF1hBDD0dvmCkBTSv21w8NTQmuVWecF6VPbkxnfwENMAzGk4jGaQrMcTLJHrfh1mNvq9nyOcvRFwJbjpjWpMiGMklfcnaEA7xfxfOp5S69o19zUN+jSp6w1jAZvMRMHkq5xBMxNiEJtHyqyRfLXI6JjygUm9zed+trUX2AxuKRImr2v54xTbCImNxx6T5NHvAp3u5EiqMR8UFJTvRcRza6QAANqEAAAAZQZokbEM//p4QAHR9/d6ykbBeg67mItS2kAAAAA9BnkJ4hf8AEd4TrtXJFcEAAAAPAZ5hdEK/AA+JegMkufuAAAAAEAGeY2pCvwAYiGl3D7ZtL3EAAAAZQZplSahBaJlMCG///qeEAB0fYPXsz4IspwAAAChBmohJ4QpSZTAhn/6eEAD+7Mk/iEd4v/+IRkqP/9gUn701ScWqe5uBAAAAE0GepkU0TCv/ADYO1N05rbCRjH0AAAAQAZ7HakK/ADYO1HK/tw/XwAAAABtBmslJqEFomUwIZ//+nhABkZDHP4c+IHD/CQ8AAAAXQZrqSeEKUmUwIZ/+nhACanCOfpf3JfMAAAAYQZsLSeEOiZTAhv/+p4QAn30c0FazKa0PAAAAGUGbLEnhDyZTAhv//qeEAJt8dPqONCQ4VsAAAAAbQZtPSeEPJlMCG//+p4QAZP2D/NZwVqmkY6dTAAAAEkGfbUURPCv/AFQpRvNOciiTtwAAABABn45qQr8AVBtyKvAE/vWBAAAAGkGbkEmoQWiZTAh3//6plgAV331fXYg3FRRwAAAAGkGbtEnhClJlMCG//qeEACoADVmTv2D/QnTAAAAAEEGf0kU0TC//ABklXjewTXkAAAAPAZ/xdEK/ABa4xi4D8wFgAAAAEAGf82pCvwAirzRMiaVnNMAAAAAYQZv3SahBaJlMCG///qeEACsYrR1UNtwjAAAAEkGeFUURLCv/ACK7FewsF+ZMgAAAAA4BnjZqQr8AIrsmPOCGZQAAAB1BmjlJqEFsmUwUTDf//qeEACte6n7rSzNTbotkGQAAABABnlhqQr8AI7mjeaYq2n7AAAAAGEGaXEnhClJlMCGf/p4QAKxwY5/DnN9axwAAABJBnnpFNEwr/wAju0Quw30vP2gAAAAPAZ6bakK/ACO7RCcEDlehAAAAG0GanUmoQWiZTAhn//6eEAEFOEc/hz4gcP8JnwAAABdBmr5J4QpSZTAhn/6eEAENEOPgXzW6fAAAABdBmt9J4Q6JlMCGf/6eEAGlkMc/S/uTdwAAABlBmuBJ4Q8mUwIb//6nhACneif6rfMfiFBBAAAAG0GbAUnhDyZTAhv//qeEAPycZ/qt9VAhP7pekAAAABdBmyJJ4Q8mUwIb//6nhAEEHzHK4bbZeQAAABZBm0ZJ4Q8mUwIb//6nhAEN+On2uMqAAAAADkGfZEURPC//AKOyoDZhAAAAEAGfg3RCvwDcvJujtvhU1IEAAAAQAZ+FakK/ANVnJ3s8fbqVgQAAABpBm4dJqEFomUwId//+qZYA48yEm3HSX1CwIQAAABdBm6pJ4QpSZTAh3/6plgDmdpfzEpXJ/gAAABJBn8hFNEwr/wILg67uSVHhCYAAAAAOAZ/pakK/AgrbfQFVyE0AAAAYQZvtSahBaJlMCG///qeEAcHAJe/s+TW9AAAAEkGeC0URLCv/AVGx4EJGP25+QAAAAA4BnixqQr8BUbHrp+pT8wAAABJBmjFJqEFsmUwIb//+p4QAAScAAAAMQZ5PRRUsL/8AALKBAAAAEAGebnRCvwIL0A5/FgceVUAAAAAQAZ5wakK/AgsbXdWrnoaVgAAAABpBmnJJqEFsmUwId//+qZYA5naX8wpCmDa3oQAAABdBmpVJ4QpSZTAh3/6plgDj3TCYKPk1vQAAABJBnrNFNEwr/wFRseBCRj9ufkAAAAAOAZ7UakK/AVGx66fqU/MAAAAYQZrYSahBaJlMCHf//qmWAOZ2l/MZPuT/AAAAEkGe9kURLCv/AguDru5JUeEJgQAAAA4BnxdqQr8CCtt9AVXITQAAABlBmxtJqEFsmUwId//+qZYA4+qATBR8mt6AAAAAEkGfOUUVLCv/AVGx4EJGP25+QQAAAA4Bn1pqQr8BUbHrp+pT8gAAABtBm19JqEFsmUwIb//+p4QBxuwf5Lo8APmTsqEAAAAQQZ99RRUsL/8A8qdO/zduWQAAAA8Bn5x0Qr8CC9AOhHy2VUAAAAAPAZ+eakK/AVFtulGkPEnVAAAAG0Gbg0moQWyZTAhv//6nhAHBnhkd8BgOb6vKaQAAABVBn6FFFSwv/wDyp0720pBHTtYrnUwAAAAQAZ/AdEK/ANKApnlfkpsvSQAAABABn8JqQr8BUbHjlf24fN3AAAAAGUGbxkmoQWyZTAhn//6eEAbLum+e5x9Xkh8AAAASQZ/kRRUsK/8CC4Ou7klR4QmBAAAADgGeBWpCvwIK230BVchNAAAAGUGaB0moQWyZTAhn//6eEAP36+/kSI+sIakAAAAZQZooSeEKUmUwIb/+p4QArPup+o40JDhNwAAAABlBmklJ4Q6JlMCG//6nhABu/YP8JwW6EmfAAAAAFkGabUnhDyZTAhv//qeEAC5+if6rplEAAAATQZ6LRRE8L/8AKrSF3/J8LcaFMAAAABABnqp0Qr8AOfxRcB+T/+jgAAAAEAGerGpCvwA6DPAuv7cP0cEAAAAfQZqvSahBaJlMFPDP/p4QAblfc1xz+HPiBw/brfm3NwAAABABns5qQr8AXSx5bhs2ptWBAAAAGUGa0EnhClJlMCGf/p4QAcP1xrhWx5VHk4AAAAAZQZrxSeEOiZTAhv/+p4QAdoHhTrOn3W3ugAAAABlBmxJJ4Q8mUwIb//6nhAB3PfZ9RxoSHDehAAAAH0GbNEnhDyZTBRE8N//+p4QATb46fdaWZqbc+82sDbgAAAAQAZ9TakK/AD4hEzTfSQcfmAAAABxBm1ZJ4Q8mUwU8N//+p4QAM777PtVstzgmifQHAAAAEAGfdWpCvwAqDbkVeAJ/5YAAAAAYQZt5SeEPJlMCG//+p4QAFa91OP8Pq26jAAAAEkGfl0URPCv/ABFZQBAKYBzawQAAABABn7hqQr8AEN2iE3GfXqYIAAAAGkGbukmoQWiZTAhv//6nhAAfs4z/Vb5j8TPhAAAAFkGb3knhClJlMCG//qeEAB8vYP8vV4AAAAASQZ/8RTRML/8AE188viKFgG4FAAAAEAGeG3RCvwAaYAAMkPJvb4EAAAAQAZ4dakK/ABpnVPJcz5LvgAAAABpBmh9JqEFomUwIb//+p4QAH99g/wnBboTZQAAAABlBmiBJ4QpSZTAh3/6plgAKp76vrsQbipkxAAAAG0GaREnhDomUwIb//qeEAA2PsH+cp14Ua3MleAAAABVBnmJFETwv/wAH7/itpXK5Ejnb8hkAAAAQAZ6BdEK/AAsSdSeV+SnEcAAAABABnoNqQr8AB0AXnOqZjibBAAAAHEGahUmoQWiZTAh3//6plgAER+l0GP/O6QphOeEAAAAgQZqpSeEKUmUwId/+qZYABGCjogWaA7vpVBj/cti7n4EAAAARQZ7HRTRML/8ABUKBBShRECkAAAAPAZ7mdEK/AAR20YuA/PXAAAAAEAGe6GpCvwAHFZg8mB6+ZoAAAAAaQZrsSahBaJlMCHf//qmWAARn486WdHU8z8EAAAARQZ8KRREsK/8AB0FcGuMsIJsAAAAOAZ8rakK/AAdAGYyblLYAAAAZQZswSahBbJlMCG///qeEAAjqg/932esWTQAAABBBn05FFSwv/wAFZoNnnk8hAAAADwGfbXRCvwAG6SanqzwwwQAAABABn29qQr8AB0GYPJcz5S2AAAAAGkGbcUmoQWyZTAh3//6plgAEh+PP37INxV/gAAAAGkGblEnhClJlMCHf/qmWAASBU4Wcx+GbLqDhAAAAEkGfskU0TCv/AAdBnfWPwX7ZQAAAAA4Bn9NqQr8AB0GeLZ+sIgAAABxBm9hJqEFomUwId//+qZYABsoLOUGaBT6MfptbAAAAEEGf9kURLC//AAfv+KvIyWAAAAAQAZ4VdEK/AAtfQDnbHGnD4QAAAA8BnhdqQr8AC1qNE1JUFoEAAAASQZocSahBbJlMCG///qeEAAEnAAAADEGeOkUVLC//AACygQAAAA8Bnll0Qr8AC12jujtvhj8AAAAPAZ5bakK/AAtajRBajzA9AAAAF0GaQEmoQWyZTAhv//6nhAANP7B/mBaBAAAAFUGefkUVLC//AAw/rljNuIW5+9c/lgAAABABnp10Qr8AEF9RInxZikywAAAAEAGen2pCvwAQ3NG80xVta0EAAAAaQZqBSahBbJlMCG///qeEABT/RP9VvmPxUEAAAAARQZqlSeEKUmUwIZ/+nhAABH0AAAAMQZ7DRTRML/8AALKAAAAAEAGe4nRCvwAaayrur8d4JSEAAAAQAZ7kakK/ABClSO9nj7grgQAAABlBmuZJqEFomUwIZ//+nhAAfApxz+HOb623AAAAGEGbB0nhClJlMCGf/p4QAMPIY5/DnN9alQAAABlBmyhJ4Q6JlMCG//6nhABNUAWbbZ9nzUnAAAAAH0GbSknhDyZTBRE8N//+p4QAeUHhxY1Qk+zxbLrX7oAAAAAQAZ9pakK/AGSdqW4bNqbGgQAAABtBm2tJ4Q8mUwIb//6nhAC9+if6rfVQIT+6amAAAAAaQZuOSeEPJlMCG//+p4QBJEAWbYxPsdPrXZUAAAASQZ+sRRE8K/8A7TO+hbkiqN6BAAAAEAGfzWpCvwDtMweTA9e2rYEAAAAdQZvQSahBaJlMFPDf/qeEAkEVqmP9St9ni2XQxbUAAAAQAZ/vakK/AX92pbhs2pjQgAAAABtBm/FJ4QpSZTAh3/6plgUeSEmzBS6Bw/qwZUAAAAAbQZoVSeEOiZTAhv/+p4QJ8wxqXNP2lGin6gH/AAAAEEGeM0URPC//AdX2hi4H0MAAAAAQAZ5SdEK/AnT+AySuEZzugAAAAA8BnlRqQr8CXmodCabQcEEAAAAaQZpYSahBaJlMCG///qeEAinjp9F4oSE46YAAAAASQZ52RREsK/8CXvwOg/WFWtmBAAAADgGel2pCvwJeEAEBBcfXAAAAHEGanEmoQWyZTAhn//6eEAR34h/iiXnOmxUBndAAAAAUQZ66RRUsL/8AsTLBS34CF0xB9JEAAAAQAZ7ZdEK/AOzxRcB+T/8/4AAAABABnttqQr8AmrzRMiaVm2pBAAAAGUGa3UmoQWyZTAhn//6eEALX7psZcmyrbN0AAAAZQZr+SeEKUmUwIb/+p4QBFEAWbbZ9nzRSQAAAABpBmwBJ4Q6JlMFNEw3//qeEARX46fdcOlqzqgAAABABnz9qQr8A56uDXHiraPBhAAAAGEGbIUnhDyZTAhv//qeEAL3itIIRP8ttAwAAAB9Bm0NJ4Q8mUwURPDv//qmWAJgUdECzPvZExl0v6BnTAAAAEAGfYmpCvwDys8IeNDWMoYAAAAAcQZtlSeEPJlMFPDv//qmWARPZ1CDM/pdpf1lm9QAAABABn4RqQr8BfwWNe80rNlbBAAAAGEGbiUnhDyZTAh3//qmWARfx5/EzaYyzewAAABBBn6dFETwv/wEOz9zhZPpJAAAADwGfxnRCvwJfYrGC/tBwQAAAABABn8hqQr8BdW5DD6AkHErYAAAAE0GbzUmoQWiZTAh3//6plgAAlYEAAAAMQZ/rRREsL/8AALKAAAAAEAGeCnRCvwDwKG7p2XZUwIAAAAAPAZ4MakK/APAobsM9WelJAAAAE0GaEUmoQWyZTAh3//6plgAAlYEAAAAMQZ4vRRUsL/8AALKBAAAAEAGeTnRCvwDwKG7p2XZUwIAAAAAPAZ5QakK/APAobsM9WelJAAAAE0GaVUmoQWyZTAh3//6plgAAlYEAAAAMQZ5zRRUsL/8AALKAAAAAEAGeknRCvwDwKG7p2XZUwIAAAAAPAZ6UakK/APAobsM9WelJAAAAE0GamUmoQWyZTAh3//6plgAAlYAAAAAMQZ63RRUsL/8AALKBAAAAEAGe1nRCvwDwKG7p2XZUwIEAAAAPAZ7YakK/APAobsM9WelJAAAAEkGa3UmoQWyZTAhv//6nhAABJwAAAAxBnvtFFSwv/wAAsoAAAAAQAZ8adEK/APAobunZdlTAgQAAAA8BnxxqQr8A8Chuwz1Z6UkAAAAdQZsfSahBbJlMFEw3//6nhAIhjNU1m2keOn2MG9AAAAAQAZ8+akK/AX8FjXvNKzZWwAAAABlBmyJJ4QpSZTAhv/6nhAIp46fReKEhOOmBAAAAEkGfQEU0TCv/Al78DoP1hVrZgAAAAA4Bn2FqQr8CXhABAQXH1wAAABxBm2RJqEFomUwU8M/+nhAEd+If4ol5zpsVAZ3QAAAADwGfg2pCvwDtA/qkUCVRvQAAABxBm4ZJ4QpSZTBSwz/+nhAEMEOdNgvRHX39L0rBAAAAEAGfpWpCvwDiM+Y3Q5IOKLkAAAAaQZunSeEOiZTAhn/+nhAHWMrHCgA+GJ+ulBEAAAAbQZvJS+EIQ8kRggoB/IB/YeAUVPCv/jhAABFwAAAAJAGf6GpCvwKvY+1BxPkHSxtZTTaxP8xbhpdVrH0NJPuVwAjOYAAAC4htb292AAAAbG12aGQAAAAAAAAAAAAAAAAAAAPoAAAfkAABAAABAAAAAAAAAAAAAAAAAQAAAAAAAAAAAAAAAAAAAAEAAAAAAAAAAAAAAAAAAEAAAAAAAAAAAAAAAAAAAAAAAAAAAAAAAAAAAAAAAAACAAAKsnRyYWsAAABcdGtoZAAAAAMAAAAAAAAAAAAAAAEAAAAAAAAfkAAAAAAAAAAAAAAAAAAAAAAAAQAAAAAAAAAAAAAAAAAAAAEAAAAAAAAAAAAAAAAAAEAAAAABEAAAARAAAAAAACRlZHRzAAAAHGVsc3QAAAAAAAAAAQAAH5AAAAQAAAEAAAAACiptZGlhAAAAIG1kaGQAAAAAAAAAAAAAAAAAADIAAAGUAFXEAAAAAAAtaGRscgAAAAAAAAAAdmlkZQAAAAAAAAAAAAAAAFZpZGVvSGFuZGxlcgAAAAnVbWluZgAAABR2bWhkAAAAAQAAAAAAAAAAAAAAJGRpbmYAAAAcZHJlZgAAAAAAAAABAAAADHVybCAAAAABAAAJlXN0YmwAAACVc3RzZAAAAAAAAAABAAAAhWF2YzEAAAAAAAAAAQAAAAAAAAAAAAAAAAAAAAABEAEQAEgAAABIAAAAAAAAAAEAAAAAAAAAAAAAAAAAAAAAAAAAAAAAAAAAAAAAAAAAAAAY//8AAAAvYXZjQwH0AA3/4QAXZ/QADZGbKCIR0IAAAAMAgAAAGQeKFMsBAAVo6+PESAAAABhzdHRzAAAAAAAAAAEAAADKAAACAAAAABRzdHNzAAAAAAAAAAEAAAABAAAFYGN0dHMAAAAAAAAAqgAAAAEAAAQAAAAAAQAACgAAAAABAAAEAAAAAAEAAAAAAAAAAQAAAgAAAAABAAAEAAAAAAEAAAgAAAAAAgAAAgAAAAAEAAAEAAAAAAEAAAgAAAAAAgAAAgAAAAABAAAEAAAAAAEAAAoAAAAAAQAABAAAAAABAAAAAAAAAAEAAAIAAAAAAQAACAAAAAACAAACAAAAAAEAAAYAAAAAAQAAAgAAAAABAAAIAAAAAAIAAAIAAAAABgAABAAAAAABAAAKAAAAAAEAAAQAAAAAAQAAAAAAAAABAAACAAAAAAEAAAQAAAAAAQAACAAAAAACAAACAAAAAAEAAAgAAAAAAgAAAgAAAAABAAAKAAAAAAEAAAQAAAAAAQAAAAAAAAABAAACAAAAAAEAAAQAAAAAAQAACAAAAAACAAACAAAAAAEAAAgAAAAAAgAAAgAAAAABAAAIAAAAAAIAAAIAAAAAAQAACgAAAAABAAAEAAAAAAEAAAAAAAAAAQAAAgAAAAABAAAKAAAAAAEAAAQAAAAAAQAAAAAAAAABAAACAAAAAAEAAAgAAAAAAgAAAgAAAAADAAAEAAAAAAEAAAoAAAAAAQAABAAAAAABAAAAAAAAAAEAAAIAAAAAAQAABgAAAAABAAACAAAAAAMAAAQAAAAAAQAABgAAAAABAAACAAAAAAEAAAYAAAAAAQAAAgAAAAABAAAIAAAAAAIAAAIAAAAAAQAABAAAAAABAAAKAAAAAAEAAAQAAAAAAQAAAAAAAAABAAACAAAAAAIAAAQAAAAAAQAACgAAAAABAAAEAAAAAAEAAAAAAAAAAQAAAgAAAAABAAAEAAAAAAEAAAoAAAAAAQAABAAAAAABAAAAAAAAAAEAAAIAAAAAAQAACAAAAAACAAACAAAAAAEAAAoAAAAAAQAABAAAAAABAAAAAAAAAAEAAAIAAAAAAQAABAAAAAABAAAIAAAAAAIAAAIAAAAAAQAACgAAAAABAAAEAAAAAAEAAAAAAAAAAQAAAgAAAAABAAAKAAAAAAEAAAQAAAAAAQAAAAAAAAABAAACAAAAAAEAAAoAAAAAAQAABAAAAAABAAAAAAAAAAEAAAIAAAAAAQAABAAAAAABAAAKAAAAAAEAAAQAAAAAAQAAAAAAAAABAAACAAAAAAMAAAQAAAAAAQAABgAAAAABAAACAAAAAAEAAAQAAAAAAQAACAAAAAACAAACAAAAAAEAAAYAAAAAAQAAAgAAAAABAAAEAAAAAAEAAAoAAAAAAQAABAAAAAABAAAAAAAAAAEAAAIAAAAAAQAACAAAAAACAAACAAAAAAEAAAoAAAAAAQAABAAAAAABAAAAAAAAAAEAAAIAAAAAAgAABAAAAAABAAAGAAAAAAEAAAIAAAAAAQAABAAAAAABAAAGAAAAAAEAAAIAAAAAAQAABgAAAAABAAACAAAAAAEAAAoAAAAAAQAABAAAAAABAAAAAAAAAAEAAAIAAAAAAQAACgAAAAABAAAEAAAAAAEAAAAAAAAAAQAAAgAAAAABAAAKAAAAAAEAAAQAAAAAAQAAAAAAAAABAAACAAAAAAEAAAoAAAAAAQAABAAAAAABAAAAAAAAAAEAAAIAAAAAAQAACgAAAAABAAAEAAAAAAEAAAAAAAAAAQAAAgAAAAABAAAKAAAAAAEAAAQAAAAAAQAAAAAAAAABAAACAAAAAAEAAAYAAAAAAQAAAgAAAAABAAAIAAAAAAIAAAIAAAAAAQAABgAAAAABAAACAAAAAAEAAAYAAAAAAQAAAgAAAAABAAAEAAAAAAEAAAYAAAAAAQAAAgAAAAAcc3RzYwAAAAAAAAABAAAAAQAAAMoAAAABAAADPHN0c3oAAAAAAAAAAAAAAMoAAAXJAAAAHQAAABMAAAATAAAAFAAAAB0AAAAsAAAAFwAAABQAAAAfAAAAGwAAABwAAAAdAAAAHwAAABYAAAAUAAAAHgAAAB4AAAAUAAAAEwAAABQAAAAcAAAAFgAAABIAAAAhAAAAFAAAABwAAAAWAAAAEwAAAB8AAAAbAAAAGwAAAB0AAAAfAAAAGwAAABoAAAASAAAAFAAAABQAAAAeAAAAGwAAABYAAAASAAAAHAAAABYAAAASAAAAFgAAABAAAAAUAAAAFAAAAB4AAAAbAAAAFgAAABIAAAAcAAAAFgAAABIAAAAdAAAAFgAAABIAAAAfAAAAFAAAABMAAAATAAAAHwAAABkAAAAUAAAAFAAAAB0AAAAWAAAAEgAAAB0AAAAdAAAAHQAAABoAAAAXAAAAFAAAABQAAAAjAAAAFAAAAB0AAAAdAAAAHQAAACMAAAAUAAAAIAAAABQAAAAcAAAAFgAAABQAAAAeAAAAGgAAABYAAAAUAAAAFAAAAB4AAAAdAAAAHwAAABkAAAAUAAAAFAAAACAAAAAkAAAAFQAAABMAAAAUAAAAHgAAABUAAAASAAAAHQAAABQAAAATAAAAFAAAAB4AAAAeAAAAFgAAABIAAAAgAAAAFAAAABQAAAATAAAAFgAAABAAAAATAAAAEwAAABsAAAAZAAAAFAAAABQAAAAeAAAAFQAAABAAAAAUAAAAFAAAAB0AAAAcAAAAHQAAACMAAAAUAAAAHwAAAB4AAAAWAAAAFAAAACEAAAAUAAAAHwAAAB8AAAAUAAAAFAAAABMAAAAeAAAAFgAAABIAAAAgAAAAGAAAABQAAAAUAAAAHQAAAB0AAAAeAAAAFAAAABwAAAAjAAAAFAAAACAAAAAUAAAAHAAAABQAAAATAAAAFAAAABcAAAAQAAAAFAAAABMAAAAXAAAAEAAAABQAAAATAAAAFwAAABAAAAAUAAAAEwAAABcAAAAQAAAAFAAAABMAAAAWAAAAEAAAABQAAAATAAAAIQAAABQAAAAdAAAAFgAAABIAAAAgAAAAEwAAACAAAAAUAAAAHgAAAB8AAAAoAAAAFHN0Y28AAAAAAAAAAQAAADAAAABidWR0YQAAAFptZXRhAAAAAAAAACFoZGxyAAAAAAAAAABtZGlyYXBwbAAAAAAAAAAAAAAAAC1pbHN0AAAAJal0b28AAAAdZGF0YQAAAAEAAAAATGF2ZjU4LjIwLjEwMA==\" type=\"video/mp4\" />\n",
       "             </video>"
      ],
      "text/plain": [
       "<IPython.core.display.HTML object>"
      ]
     },
     "execution_count": 12,
     "metadata": {},
     "output_type": "execute_result"
    }
   ],
   "source": [
    "env = Environment(grid_size=size, max_time=T, temperature=temperature)\n",
    "agent = DQN_FC(size, lr=.1, epsilon=0.1, memory_size=1024, batch_size = 32)\n",
    "train(agent, env, epochs_train, prefix='fc_train')\n",
    "HTML(display_videos('fc_train50.mp4'))"
   ]
  },
  {
   "cell_type": "markdown",
   "metadata": {},
   "source": [
    "***\n",
    "***\n",
    "__Question 8__ Implement the DQN training algorithm using a CNN (for example, 2 convolutional layers and one final fully connected layer)."
   ]
  },
  {
   "cell_type": "code",
   "execution_count": 13,
   "metadata": {
    "ExecuteTime": {
     "end_time": "2020-02-22T12:31:38.511034Z",
     "start_time": "2020-02-22T12:31:38.505054Z"
    }
   },
   "outputs": [],
   "source": [
    "class DQN_CNN(DQN):\n",
    "    def __init__(self, *args,lr=0.1,**kwargs):\n",
    "        super(DQN_CNN, self).__init__(*args,**kwargs)\n",
    "        \n",
    "        model = Sequential([\n",
    "            Conv2D(32, kernel_size=(3, 3),\n",
    "                 activation='relu',\n",
    "                 input_shape=(5, 5, self.n_state)),\n",
    "            Conv2D(16, kernel_size=(1, 1),\n",
    "                 activation='relu'),\n",
    "            Flatten(),\n",
    "            Dense(4)\n",
    "        ])\n",
    "        \n",
    "        model.compile(sgd(lr=lr, decay=1e-4, momentum=0.), \"mse\")\n",
    "        self.model = model"
   ]
  },
  {
   "cell_type": "code",
   "execution_count": 14,
   "metadata": {
    "ExecuteTime": {
     "end_time": "2020-02-22T12:32:31.409100Z",
     "start_time": "2020-02-22T12:31:38.513179Z"
    }
   },
   "outputs": [
    {
     "name": "stdout",
     "output_type": "stream",
     "text": [
      "Epoch 000/051 | Loss 0.0033 | Win/lose count 8.5/5.0 (3.5)\n",
      "Epoch 001/051 | Loss 0.0124 | Win/lose count 6.5/2.0 (4.5)\n",
      "Epoch 002/051 | Loss 0.0023 | Win/lose count 4.0/1.0 (3.0)\n",
      "Epoch 003/051 | Loss 0.0055 | Win/lose count 6.5/3.0 (3.5)\n",
      "Epoch 004/051 | Loss 0.0018 | Win/lose count 6.5/3.0 (3.5)\n",
      "Epoch 005/051 | Loss 0.0093 | Win/lose count 9.5/1.0 (8.5)\n",
      "Epoch 006/051 | Loss 0.0046 | Win/lose count 8.0/3.0 (5.0)\n",
      "Epoch 007/051 | Loss 0.0032 | Win/lose count 8.5/5.0 (3.5)\n",
      "Epoch 008/051 | Loss 0.0017 | Win/lose count 7.5/4.0 (3.5)\n",
      "Epoch 009/051 | Loss 0.0102 | Win/lose count 6.5/1.0 (5.5)\n",
      "Epoch 010/051 | Loss 0.0030 | Win/lose count 5.5/2.0 (3.5)\n",
      "Epoch 011/051 | Loss 0.0023 | Win/lose count 14.5/4.0 (10.5)\n",
      "Epoch 012/051 | Loss 0.0014 | Win/lose count 2.0/1.0 (1.0)\n",
      "Epoch 013/051 | Loss 0.0080 | Win/lose count 8.5/2.0 (6.5)\n",
      "Epoch 014/051 | Loss 0.0024 | Win/lose count 4.0/3.0 (1.0)\n",
      "Epoch 015/051 | Loss 0.0006 | Win/lose count 6.5/4.0 (2.5)\n",
      "Epoch 016/051 | Loss 0.0021 | Win/lose count 8.5/5.0 (3.5)\n",
      "Epoch 017/051 | Loss 0.0009 | Win/lose count 17.5/2.0 (15.5)\n",
      "Epoch 018/051 | Loss 0.0029 | Win/lose count 9.5/3.0 (6.5)\n",
      "Epoch 019/051 | Loss 0.0113 | Win/lose count 14.0/2.0 (12.0)\n",
      "Epoch 020/051 | Loss 0.0029 | Win/lose count 15.5/3.0 (12.5)\n",
      "Epoch 021/051 | Loss 0.0030 | Win/lose count 9.0/7.0 (2.0)\n",
      "Epoch 022/051 | Loss 0.0134 | Win/lose count 10.0/3.0 (7.0)\n",
      "Epoch 023/051 | Loss 0.0016 | Win/lose count 9.0/7.0 (2.0)\n",
      "Epoch 024/051 | Loss 0.0108 | Win/lose count 9.0/4.0 (5.0)\n",
      "Epoch 025/051 | Loss 0.0021 | Win/lose count 13.0/3.0 (10.0)\n",
      "Epoch 026/051 | Loss 0.0017 | Win/lose count 8.0/3.0 (5.0)\n",
      "Epoch 027/051 | Loss 0.0016 | Win/lose count 12.0/3.0 (9.0)\n",
      "Epoch 028/051 | Loss 0.0056 | Win/lose count 11.0/4.0 (7.0)\n",
      "Epoch 029/051 | Loss 0.0135 | Win/lose count 3.0/3.0 (0.0)\n",
      "Epoch 030/051 | Loss 0.0016 | Win/lose count 8.5/2.0 (6.5)\n",
      "Epoch 031/051 | Loss 0.0011 | Win/lose count 6.0/1.0 (5.0)\n",
      "Epoch 032/051 | Loss 0.0151 | Win/lose count 16.5/4.0 (12.5)\n",
      "Epoch 033/051 | Loss 0.0007 | Win/lose count 11.5/4.0 (7.5)\n",
      "Epoch 034/051 | Loss 0.0018 | Win/lose count 4.5/3.0 (1.5)\n",
      "Epoch 035/051 | Loss 0.0003 | Win/lose count 5.5/1.0 (4.5)\n",
      "Epoch 036/051 | Loss 0.0025 | Win/lose count 14.0/5.0 (9.0)\n",
      "Epoch 037/051 | Loss 0.0028 | Win/lose count 21.0/3.0 (18.0)\n",
      "Epoch 038/051 | Loss 0.0160 | Win/lose count 10.0/2.0 (8.0)\n",
      "Epoch 039/051 | Loss 0.0020 | Win/lose count 4.0/7.0 (-3.0)\n",
      "Epoch 040/051 | Loss 0.0102 | Win/lose count 15.0/8.0 (7.0)\n",
      "Epoch 041/051 | Loss 0.0038 | Win/lose count 8.5/2.0 (6.5)\n",
      "Epoch 042/051 | Loss 0.0035 | Win/lose count 18.0/4.0 (14.0)\n",
      "Epoch 043/051 | Loss 0.0016 | Win/lose count 14.0/6.0 (8.0)\n",
      "Epoch 044/051 | Loss 0.0044 | Win/lose count 11.5/3.0 (8.5)\n",
      "Epoch 045/051 | Loss 0.0328 | Win/lose count 18.0/3.0 (15.0)\n",
      "Epoch 046/051 | Loss 0.0013 | Win/lose count 18.0/2.0 (16.0)\n",
      "Epoch 047/051 | Loss 0.0007 | Win/lose count 10.0/7.0 (3.0)\n",
      "Epoch 048/051 | Loss 0.0248 | Win/lose count 9.0/3.0 (6.0)\n",
      "Epoch 049/051 | Loss 0.0011 | Win/lose count 10.0/4.0 (6.0)\n",
      "Epoch 050/051 | Loss 0.0008 | Win/lose count 13.5/3.0 (10.5)\n"
     ]
    },
    {
     "data": {
      "text/html": [
       "<video alt=\"test\" controls>\n",
       "                <source src=\"data:video/mp4;base64,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\" type=\"video/mp4\" />\n",
       "             </video>"
      ],
      "text/plain": [
       "<IPython.core.display.HTML object>"
      ]
     },
     "execution_count": 14,
     "metadata": {},
     "output_type": "execute_result"
    }
   ],
   "source": [
    "env = Environment(grid_size=size, max_time=T, temperature=temperature)\n",
    "agent = DQN_CNN(size, lr=.1, epsilon=0.1, memory_size=1024, batch_size = 32)\n",
    "train(agent,env,epochs_train,prefix='cnn_train')\n",
    "HTML(display_videos('cnn_train50.mp4'))"
   ]
  },
  {
   "cell_type": "markdown",
   "metadata": {},
   "source": [
    "***\n",
    "***\n",
    "__Question 9__ Test both algorithms and compare their performances. Which issue(s) do you observe? Observe also different behaviors by changing the temperature."
   ]
  },
  {
   "cell_type": "code",
   "execution_count": 15,
   "metadata": {
    "ExecuteTime": {
     "end_time": "2020-02-22T12:32:47.997634Z",
     "start_time": "2020-02-22T12:32:31.411006Z"
    }
   },
   "outputs": [
    {
     "name": "stdout",
     "output_type": "stream",
     "text": [
      "Test of the CNN\n",
      "Win/lose count 3.5/0. Average score (3.50)\n",
      "Win/lose count 3.5/0. Average score (3.50)\n",
      "Win/lose count 2.5/0. Average score (3.17)\n",
      "Win/lose count 3.5/0. Average score (3.25)\n",
      "Win/lose count 0/0. Average score (2.60)\n",
      "Win/lose count 3.5/0. Average score (2.75)\n",
      "Win/lose count 3.0/0. Average score (2.79)\n",
      "Win/lose count 3.0/0. Average score (2.81)\n",
      "Win/lose count 0/0. Average score (2.50)\n",
      "Win/lose count 6.5/0. Average score (2.90)\n",
      "Win/lose count 0.5/0. Average score (2.68)\n",
      "Final score: 2.68 (mean best achievable score: 25.35)\n",
      "10.58%\n",
      "Test of the FC\n",
      "Win/lose count 4.0/0. Average score (4.00)\n",
      "Win/lose count 12.5/0. Average score (8.25)\n",
      "Win/lose count 4.5/0. Average score (7.00)\n",
      "Win/lose count 3.0/0. Average score (6.00)\n",
      "Win/lose count 3.0/0. Average score (5.40)\n",
      "Win/lose count 3.0/0. Average score (5.00)\n",
      "Win/lose count 1.0/0. Average score (4.43)\n",
      "Win/lose count 3.0/0. Average score (4.25)\n",
      "Win/lose count 6.5/1.0. Average score (4.39)\n",
      "Win/lose count 7.0/0. Average score (4.65)\n",
      "Win/lose count 6.0/0. Average score (4.77)\n",
      "Final score: 4.77 (mean best achievable score: 25.35)\n",
      "18.83%\n"
     ]
    }
   ],
   "source": [
    "env = Environment(grid_size=size, max_time=T,temperature=temperature)\n",
    "agent_cnn = DQN_CNN(size, lr=.1, epsilon = 0.1, memory_size=2048, batch_size = 32)\n",
    "agent_cnn.load(name_weights='cnn_trainmodel.h5',name_model='cnn_trainmodel.json')\n",
    "\n",
    "agent_fc = DQN_FC(size, lr=.1, epsilon = 0.1, memory_size=2048, batch_size = 32)\n",
    "agent_fc.load(name_weights='fc_trainmodel.h5',name_model='fc_trainmodel.json')\n",
    "print('Test of the CNN')\n",
    "test(agent_cnn,env,epochs_test,prefix='cnn_test')\n",
    "print('Test of the FC')\n",
    "test(agent_fc,env,epochs_test,prefix='fc_test')"
   ]
  },
  {
   "cell_type": "code",
   "execution_count": 16,
   "metadata": {
    "ExecuteTime": {
     "end_time": "2020-02-22T12:32:48.004156Z",
     "start_time": "2020-02-22T12:32:47.999496Z"
    }
   },
   "outputs": [
    {
     "data": {
      "text/html": [
       "<video alt=\"test\" controls>\n",
       "                <source src=\"data:video/mp4;base64,AAAAIGZ0eXBpc29tAAACAGlzb21pc28yYXZjMW1wNDEAAAAIZnJlZQAAFgVtZGF0AAACrQYF//+p3EXpvebZSLeWLNgg2SPu73gyNjQgLSBjb3JlIDE1NSByMjkxNyAwYTg0ZDk4IC0gSC4yNjQvTVBFRy00IEFWQyBjb2RlYyAtIENvcHlsZWZ0IDIwMDMtMjAxOCAtIGh0dHA6Ly93d3cudmlkZW9sYW4ub3JnL3gyNjQuaHRtbCAtIG9wdGlvbnM6IGNhYmFjPTEgcmVmPTMgZGVibG9jaz0xOjA6MCBhbmFseXNlPTB4MToweDExMSBtZT1oZXggc3VibWU9NyBwc3k9MSBwc3lfcmQ9MS4wMDowLjAwIG1peGVkX3JlZj0xIG1lX3JhbmdlPTE2IGNocm9tYV9tZT0xIHRyZWxsaXM9MSA4eDhkY3Q9MCBjcW09MCBkZWFkem9uZT0yMSwxMSBmYXN0X3Bza2lwPTEgY2hyb21hX3FwX29mZnNldD00IHRocmVhZHM9OCBsb29rYWhlYWRfdGhyZWFkcz0xIHNsaWNlZF90aHJlYWRzPTAgbnI9MCBkZWNpbWF0ZT0xIGludGVybGFjZWQ9MCBibHVyYXlfY29tcGF0PTAgY29uc3RyYWluZWRfaW50cmE9MCBiZnJhbWVzPTMgYl9weXJhbWlkPTIgYl9hZGFwdD0xIGJfYmlhcz0wIGRpcmVjdD0xIHdlaWdodGI9MSBvcGVuX2dvcD0wIHdlaWdodHA9MiBrZXlpbnQ9MjUwIGtleWludF9taW49MjUgc2NlbmVjdXQ9NDAgaW50cmFfcmVmcmVzaD0wIHJjX2xvb2thaGVhZD00MCByYz1jcmYgbWJ0cmVlPTEgY3JmPTIzLjAgcWNvbXA9MC42MCBxcG1pbj0wIHFwbWF4PTY5IHFwc3RlcD00IGlwX3JhdGlvPTEuNDAgYXE9MToxLjAwAIAAAAMhZYiEADf//vaH+BTZWBP+Wb/9DX/cj9uPrP1xYyEE31qvIejAGS+1H+b/rFFs6Z6UB/fgCJQAc24ZwpJw4v/ApLdW+BTLYTnGrzD8eNPwpbJHJ82I7SV6WKS9MQ7Rcg1SfoNDe1bGJIoXc7xbDzkrUDgRCy5iODSt83L8WUaprk+D5OscBv9rDVkHmZvEzpoXqGgQl+S82QPx+bIWuGho267nYm0970CxIwJkzPOIyvcatRYGToLdMoHtM3hnPRyi0ErlFSHrQ6QODTClQt2CtdA5ioXXcibiYm8Yqppm73DAHPQm02sDSFXlW3VPYLXTN15GwpSL5uIXi2N9hWQKS8aBSZnFGQMH+DP4OItahU4wnDmTAcPOGFfb4+CudYUZbGkHduB4LonJlhzRFJIvk27nHUwyIOSE5Q/F37QzJpTmi04kRCEZ6IjyGB2fSAkGp3FyI5nwCLBkwXTLa8v/ND4BXSZqLAjP/RH/kGN+BgxmRhPgknffHbDZVF/CL03Rgh1ECVo2t+4Ny9VJ4JtSgRnEm8K3Bc8aS759OSUNZN+2oUiYWDgItP4qFlA+Cl4P8AocDlOEZQ++c2bzyh9zRTDvXHpQ7ctpJDXb24v+PJfHvlZl5kkdhGeGIhPKfc/537+hOvTgfQqCKFZLultCIzt3Yl7SkJMhCfUTW4jyLKbEa5UkESEkxh90PHQcFYAC/uHUmLRoKUH9pO2clrOqPlWc9MnE+CQ26hUozhCUmbrWpHhgMMC9srENFnOdTV07BPkwFnKVAKfvnC55Y0WL1HrZrKdqdkDa3EIH0V8/QBGK5VGZnq6vPyEPq8cPbEUe7CEgdleEhj1RihnogFxpYfcAxgM/JnbkNmO2I3S/H5vD9YjG2mV7IUuPHMCObWAvtIUctAud1/BrE6jlE3E0eBnwCDJyaEvUIR4RxAWBRL+XpzDr5/eZYuphrG9ggNZXVf++j+76quF8dYKTrDBHmcO5jCVHM7G7VYgdPaX0Bx9wwKtPA/QqZDCWdf+C0W1vauyTvLSls9cklM5Qc1bBC8CjDuOuMCUsnbMAB/ccAAopAAAAFEGaIWxDv/6plgAD0RQZoA9JfaXgAAAAHEGaRTwhkymEO//+qZYABioLMWmZ97ImMul/Qi0AAAAPQZ5jalPC/wAHP/ZVFfpgAAAADwGegnRCvwAJ9mTuDZLzawAAAA8BnoRqQr8ACfcrAuv8RkEAAAATQZqJSahBaJlMCHf//qmWAACVgQAAAAxBnqdFESwv/wAAsoEAAAASAZ7GdEK/AAn1o84HC7dicaIgAAAAEQGeyGpCvwAJ8NJg9BM08mYiAAAAE0GazUmoQWyZTAh3//6plgAAlYEAAAAMQZ7rRRUsL/8AALKAAAAAEQGfCnRCvwAJ72Q18ItQchUMAAAAEQGfDGpCvwAJ8NJg9BM08mYjAAAAE0GbEUmoQWyZTAh3//6plgAAlYEAAAAMQZ8vRRUsL/8AALKBAAAAEQGfTnRCvwAJ72Q18ItQchUMAAAAEQGfUGpCvwAJ8NJg9BM08mYiAAAAE0GbVUmoQWyZTAh3//6plgAAlYEAAAAMQZ9zRRUsL/8AALKAAAAAEQGfknRCvwAJ72Q18ItQchUMAAAAEQGflGpCvwAJ8NJg9BM08mYjAAAAE0GbmUmoQWyZTAh3//6plgAAlYAAAAAMQZ+3RRUsL/8AALKBAAAAEQGf1nRCvwAJ72Q18ItQchUNAAAAEQGf2GpCvwAJ8NJg9BM08mYiAAAAE0Gb3UmoQWyZTAh3//6plgAAlYEAAAAMQZ/7RRUsL/8AALKAAAAAEQGeGnRCvwAJ72Q18ItQchUNAAAAEQGeHGpCvwAJ8NJg9BM08mYjAAAAE0GaAUmoQWyZTAh3//6plgAAlYAAAAAMQZ4/RRUsL/8AALKAAAAAEQGeXnRCvwAJ72Q18ItQchUNAAAAEQGeQGpCvwAJ8NJg9BM08mYiAAAAE0GaRUmoQWyZTAh3//6plgAAlYEAAAAMQZ5jRRUsL/8AALKAAAAAEQGegnRCvwAJ72Q18ItQchUNAAAAEQGehGpCvwAJ8NJg9BM08mYjAAAAE0GaiUmoQWyZTAh3//6plgAAlYEAAAAMQZ6nRRUsL/8AALKBAAAAEQGexnRCvwAJ72Q18ItQchUMAAAAEQGeyGpCvwAJ8NJg9BM08mYiAAAAE0GazUmoQWyZTAh3//6plgAAlYEAAAAMQZ7rRRUsL/8AALKAAAAAEQGfCnRCvwAJ72Q18ItQchUMAAAAEQGfDGpCvwAJ8NJg9BM08mYjAAAAE0GbEUmoQWyZTAh3//6plgAAlYEAAAAMQZ8vRRUsL/8AALKBAAAAEQGfTnRCvwAJ72Q18ItQchUMAAAAEQGfUGpCvwAJ8NJg9BM08mYiAAAAE0GbVUmoQWyZTAh3//6plgAAlYEAAAAMQZ9zRRUsL/8AALKAAAAAEQGfknRCvwAJ72Q18ItQchUMAAAAEQGflGpCvwAJ8NJg9BM08mYjAAAAE0GbmUmoQWyZTAh3//6plgAAlYAAAAAMQZ+3RRUsL/8AALKBAAAAEQGf1nRCvwAJ72Q18ItQchUNAAAAEQGf2GpCvwAJ8NJg9BM08mYiAAAAE0Gb3UmoQWyZTAh3//6plgAAlYEAAAAMQZ/7RRUsL/8AALKAAAAAEQGeGnRCvwAJ72Q18ItQchUNAAAAEQGeHGpCvwAJ8NJg9BM08mYjAAAAE0GaAUmoQWyZTAh3//6plgAAlYAAAAAMQZ4/RRUsL/8AALKAAAAAEQGeXnRCvwAJ72Q18ItQchUNAAAAEQGeQGpCvwAJ8NJg9BM08mYiAAAAE0GaRUmoQWyZTAh3//6plgAAlYEAAAAMQZ5jRRUsL/8AALKAAAAAEQGegnRCvwAJ72Q18ItQchUNAAAAEQGehGpCvwAJ8NJg9BM08mYjAAAAE0GaiUmoQWyZTAh3//6plgAAlYEAAAAMQZ6nRRUsL/8AALKBAAAAEQGexnRCvwAJ72Q18ItQchUMAAAAEQGeyGpCvwAJ8NJg9BM08mYiAAAAE0GazUmoQWyZTAh3//6plgAAlYEAAAAMQZ7rRRUsL/8AALKAAAAAEQGfCnRCvwAJ72Q18ItQchUMAAAAEQGfDGpCvwAJ8NJg9BM08mYjAAAAE0GbEUmoQWyZTAh3//6plgAAlYEAAAAMQZ8vRRUsL/8AALKBAAAAEQGfTnRCvwAJ72Q18ItQchUMAAAAEQGfUGpCvwAJ8NJg9BM08mYiAAAAE0GbVUmoQWyZTAh3//6plgAAlYEAAAAMQZ9zRRUsL/8AALKAAAAAEQGfknRCvwAJ72Q18ItQchUMAAAAEQGflGpCvwAJ8NJg9BM08mYjAAAAE0GbmUmoQWyZTAh3//6plgAAlYAAAAAMQZ+3RRUsL/8AALKBAAAAEQGf1nRCvwAJ72Q18ItQchUNAAAAEQGf2GpCvwAJ8NJg9BM08mYiAAAAE0Gb3UmoQWyZTAh3//6plgAAlYEAAAAMQZ/7RRUsL/8AALKAAAAAEQGeGnRCvwAJ72Q18ItQchUNAAAAEQGeHGpCvwAJ8NJg9BM08mYjAAAAE0GaAUmoQWyZTAh3//6plgAAlYAAAAAMQZ4/RRUsL/8AALKAAAAAEQGeXnRCvwAJ72Q18ItQchUNAAAAEQGeQGpCvwAJ8NJg9BM08mYiAAAAE0GaRUmoQWyZTAh3//6plgAAlYEAAAAMQZ5jRRUsL/8AALKAAAAAEQGegnRCvwAJ72Q18ItQchUNAAAAEQGehGpCvwAJ8NJg9BM08mYjAAAAE0GaiUmoQWyZTAh3//6plgAAlYEAAAAMQZ6nRRUsL/8AALKBAAAAEQGexnRCvwAJ72Q18ItQchUMAAAAEQGeyGpCvwAJ8NJg9BM08mYiAAAAE0GazUmoQWyZTAh3//6plgAAlYEAAAAMQZ7rRRUsL/8AALKAAAAAEQGfCnRCvwAJ72Q18ItQchUMAAAAEQGfDGpCvwAJ8NJg9BM08mYjAAAAE0GbEUmoQWyZTAh3//6plgAAlYEAAAAMQZ8vRRUsL/8AALKBAAAAEQGfTnRCvwAJ72Q18ItQchUMAAAAEQGfUGpCvwAJ8NJg9BM08mYiAAAAE0GbVUmoQWyZTAh3//6plgAAlYEAAAAMQZ9zRRUsL/8AALKAAAAAEQGfknRCvwAJ72Q18ItQchUMAAAAEQGflGpCvwAJ8NJg9BM08mYjAAAAE0GbmUmoQWyZTAh3//6plgAAlYAAAAAMQZ+3RRUsL/8AALKBAAAAEQGf1nRCvwAJ72Q18ItQchUNAAAAEQGf2GpCvwAJ8NJg9BM08mYiAAAAE0Gb3UmoQWyZTAh3//6plgAAlYEAAAAMQZ/7RRUsL/8AALKAAAAAEQGeGnRCvwAJ72Q18ItQchUNAAAAEQGeHGpCvwAJ8NJg9BM08mYjAAAAE0GaAUmoQWyZTAh3//6plgAAlYAAAAAMQZ4/RRUsL/8AALKAAAAAEQGeXnRCvwAJ72Q18ItQchUNAAAAEQGeQGpCvwAJ8NJg9BM08mYiAAAAE0GaRUmoQWyZTAh3//6plgAAlYEAAAAMQZ5jRRUsL/8AALKAAAAAEQGegnRCvwAJ72Q18ItQchUNAAAAEQGehGpCvwAJ8NJg9BM08mYjAAAAE0GaiUmoQWyZTAh3//6plgAAlYEAAAAMQZ6nRRUsL/8AALKBAAAAEQGexnRCvwAJ72Q18ItQchUMAAAAEQGeyGpCvwAJ8NJg9BM08mYiAAAAE0GazUmoQWyZTAh3//6plgAAlYEAAAAMQZ7rRRUsL/8AALKAAAAAEQGfCnRCvwAJ72Q18ItQchUMAAAAEQGfDGpCvwAJ8NJg9BM08mYjAAAAE0GbEUmoQWyZTAh3//6plgAAlYEAAAAMQZ8vRRUsL/8AALKBAAAAEQGfTnRCvwAJ72Q18ItQchUMAAAAEQGfUGpCvwAJ8NJg9BM08mYiAAAAE0GbVUmoQWyZTAh3//6plgAAlYEAAAAMQZ9zRRUsL/8AALKAAAAAEQGfknRCvwAJ72Q18ItQchUMAAAAEQGflGpCvwAJ8NJg9BM08mYjAAAAE0GbmUmoQWyZTAh3//6plgAAlYAAAAAMQZ+3RRUsL/8AALKBAAAAEQGf1nRCvwAJ72Q18ItQchUNAAAAEQGf2GpCvwAJ8NJg9BM08mYiAAAAE0Gb3UmoQWyZTAh3//6plgAAlYEAAAAMQZ/7RRUsL/8AALKAAAAAEQGeGnRCvwAJ72Q18ItQchUNAAAAEQGeHGpCvwAJ8NJg9BM08mYjAAAAE0GaAUmoQWyZTAh3//6plgAAlYAAAAAMQZ4/RRUsL/8AALKAAAAAEQGeXnRCvwAJ72Q18ItQchUNAAAAEQGeQGpCvwAJ8NJg9BM08mYiAAAAE0GaRUmoQWyZTAh3//6plgAAlYEAAAAMQZ5jRRUsL/8AALKAAAAAEQGegnRCvwAJ72Q18ItQchUNAAAAEQGehGpCvwAJ8NJg9BM08mYjAAAAE0GaiUmoQWyZTAh3//6plgAAlYEAAAAMQZ6nRRUsL/8AALKBAAAAEQGexnRCvwAJ72Q18ItQchUMAAAAEQGeyGpCvwAJ8NJg9BM08mYiAAAAE0GazUmoQWyZTAh3//6plgAAlYEAAAAMQZ7rRRUsL/8AALKAAAAAEQGfCnRCvwAJ72Q18ItQchUMAAAAEQGfDGpCvwAJ8NJg9BM08mYjAAAAE0GbEUmoQWyZTAh3//6plgAAlYEAAAAMQZ8vRRUsL/8AALKBAAAAEQGfTnRCvwAJ72Q18ItQchUMAAAAEQGfUGpCvwAJ8NJg9BM08mYiAAAAE0GbVUmoQWyZTAh3//6plgAAlYEAAAAMQZ9zRRUsL/8AALKAAAAAEQGfknRCvwAJ72Q18ItQchUMAAAAEQGflGpCvwAJ8NJg9BM08mYjAAAAE0GbmUmoQWyZTAh3//6plgAAlYAAAAAMQZ+3RRUsL/8AALKBAAAAEQGf1nRCvwAJ72Q18ItQchUNAAAAEQGf2GpCvwAJ8NJg9BM08mYiAAAAE0Gb3UmoQWyZTAh3//6plgAAlYEAAAAMQZ/7RRUsL/8AALKAAAAAEQGeGnRCvwAJ72Q18ItQchUNAAAAEQGeHGpCvwAJ8NJg9BM08mYjAAAAEkGaAUmoQWyZTAhv//6nhAABJwAAAAxBnj9FFSwv/wAAsoAAAAARAZ5edEK/AAnvZDXwi1ByFQ0AAAARAZ5AakK/AAnw0mD0EzTyZiIAAAASQZpFSahBbJlMCGf//p4QAAR9AAAADEGeY0UVLC//AACygAAAABEBnoJ0Qr8ACe9kNfCLUHIVDQAAABEBnoRqQr8ACfDSYPQTNPJmIwAAABpBmolLqEIQWyRGCCgH8gH9h4AhX/44QAARcQAAACNBnqdFFSwv/wIB3OpL2zMKuYDoGrWoXAlAGWiTwt8ykzScMQAAABIBnsZ0Qr8ACfWjzgcLt2JxoiAAAAAoAZ7IakK/Aq9j7UHE3arDSSblqoYHLLW7zSogodivbpe2KQw5os4a/gAADIBtb292AAAAbG12aGQAAAAAAAAAAAAAAAAAAAPoAAAfkAABAAABAAAAAAAAAAAAAAAAAQAAAAAAAAAAAAAAAAAAAAEAAAAAAAAAAAAAAAAAAEAAAAAAAAAAAAAAAAAAAAAAAAAAAAAAAAAAAAAAAAACAAALqnRyYWsAAABcdGtoZAAAAAMAAAAAAAAAAAAAAAEAAAAAAAAfkAAAAAAAAAAAAAAAAAAAAAAAAQAAAAAAAAAAAAAAAAAAAAEAAAAAAAAAAAAAAAAAAEAAAAABEAAAARAAAAAAACRlZHRzAAAAHGVsc3QAAAAAAAAAAQAAH5AAAAQAAAEAAAAACyJtZGlhAAAAIG1kaGQAAAAAAAAAAAAAAAAAADIAAAGUAFXEAAAAAAAtaGRscgAAAAAAAAAAdmlkZQAAAAAAAAAAAAAAAFZpZGVvSGFuZGxlcgAAAArNbWluZgAAABR2bWhkAAAAAQAAAAAAAAAAAAAAJGRpbmYAAAAcZHJlZgAAAAAAAAABAAAADHVybCAAAAABAAAKjXN0YmwAAACVc3RzZAAAAAAAAAABAAAAhWF2YzEAAAAAAAAAAQAAAAAAAAAAAAAAAAAAAAABEAEQAEgAAABIAAAAAAAAAAEAAAAAAAAAAAAAAAAAAAAAAAAAAAAAAAAAAAAAAAAAAAAY//8AAAAvYXZjQwH0AA3/4QAXZ/QADZGbKCIR0IAAAAMAgAAAGQeKFMsBAAVo6+PESAAAABhzdHRzAAAAAAAAAAEAAADKAAACAAAAABRzdHNzAAAAAAAAAAEAAAABAAAGWGN0dHMAAAAAAAAAyQAAAAIAAAQAAAAAAQAACgAAAAABAAAEAAAAAAEAAAAAAAAAAQAAAgAAAAABAAAKAAAAAAEAAAQAAAAAAQAAAAAAAAABAAACAAAAAAEAAAoAAAAAAQAABAAAAAABAAAAAAAAAAEAAAIAAAAAAQAACgAAAAABAAAEAAAAAAEAAAAAAAAAAQAAAgAAAAABAAAKAAAAAAEAAAQAAAAAAQAAAAAAAAABAAACAAAAAAEAAAoAAAAAAQAABAAAAAABAAAAAAAAAAEAAAIAAAAAAQAACgAAAAABAAAEAAAAAAEAAAAAAAAAAQAAAgAAAAABAAAKAAAAAAEAAAQAAAAAAQAAAAAAAAABAAACAAAAAAEAAAoAAAAAAQAABAAAAAABAAAAAAAAAAEAAAIAAAAAAQAACgAAAAABAAAEAAAAAAEAAAAAAAAAAQAAAgAAAAABAAAKAAAAAAEAAAQAAAAAAQAAAAAAAAABAAACAAAAAAEAAAoAAAAAAQAABAAAAAABAAAAAAAAAAEAAAIAAAAAAQAACgAAAAABAAAEAAAAAAEAAAAAAAAAAQAAAgAAAAABAAAKAAAAAAEAAAQAAAAAAQAAAAAAAAABAAACAAAAAAEAAAoAAAAAAQAABAAAAAABAAAAAAAAAAEAAAIAAAAAAQAACgAAAAABAAAEAAAAAAEAAAAAAAAAAQAAAgAAAAABAAAKAAAAAAEAAAQAAAAAAQAAAAAAAAABAAACAAAAAAEAAAoAAAAAAQAABAAAAAABAAAAAAAAAAEAAAIAAAAAAQAACgAAAAABAAAEAAAAAAEAAAAAAAAAAQAAAgAAAAABAAAKAAAAAAEAAAQAAAAAAQAAAAAAAAABAAACAAAAAAEAAAoAAAAAAQAABAAAAAABAAAAAAAAAAEAAAIAAAAAAQAACgAAAAABAAAEAAAAAAEAAAAAAAAAAQAAAgAAAAABAAAKAAAAAAEAAAQAAAAAAQAAAAAAAAABAAACAAAAAAEAAAoAAAAAAQAABAAAAAABAAAAAAAAAAEAAAIAAAAAAQAACgAAAAABAAAEAAAAAAEAAAAAAAAAAQAAAgAAAAABAAAKAAAAAAEAAAQAAAAAAQAAAAAAAAABAAACAAAAAAEAAAoAAAAAAQAABAAAAAABAAAAAAAAAAEAAAIAAAAAAQAACgAAAAABAAAEAAAAAAEAAAAAAAAAAQAAAgAAAAABAAAKAAAAAAEAAAQAAAAAAQAAAAAAAAABAAACAAAAAAEAAAoAAAAAAQAABAAAAAABAAAAAAAAAAEAAAIAAAAAAQAACgAAAAABAAAEAAAAAAEAAAAAAAAAAQAAAgAAAAABAAAKAAAAAAEAAAQAAAAAAQAAAAAAAAABAAACAAAAAAEAAAoAAAAAAQAABAAAAAABAAAAAAAAAAEAAAIAAAAAAQAACgAAAAABAAAEAAAAAAEAAAAAAAAAAQAAAgAAAAABAAAKAAAAAAEAAAQAAAAAAQAAAAAAAAABAAACAAAAAAEAAAoAAAAAAQAABAAAAAABAAAAAAAAAAEAAAIAAAAAAQAACgAAAAABAAAEAAAAAAEAAAAAAAAAAQAAAgAAAAABAAAKAAAAAAEAAAQAAAAAAQAAAAAAAAABAAACAAAAAAEAAAoAAAAAAQAABAAAAAABAAAAAAAAAAEAAAIAAAAAAQAACgAAAAABAAAEAAAAAAEAAAAAAAAAAQAAAgAAAAABAAAKAAAAAAEAAAQAAAAAAQAAAAAAAAABAAACAAAAAAEAAAoAAAAAAQAABAAAAAABAAAAAAAAAAEAAAIAAAAAAQAACgAAAAABAAAEAAAAAAEAAAAAAAAAAQAAAgAAAAABAAAKAAAAAAEAAAQAAAAAAQAAAAAAAAABAAACAAAAAAEAAAoAAAAAAQAABAAAAAABAAAAAAAAAAEAAAIAAAAAAQAACgAAAAABAAAEAAAAAAEAAAAAAAAAAQAAAgAAAAABAAAKAAAAAAEAAAQAAAAAAQAAAAAAAAABAAACAAAAAAEAAAoAAAAAAQAABAAAAAABAAAAAAAAAAEAAAIAAAAAAQAACgAAAAABAAAEAAAAAAEAAAAAAAAAAQAAAgAAAAABAAAKAAAAAAEAAAQAAAAAAQAAAAAAAAABAAACAAAAABxzdHNjAAAAAAAAAAEAAAABAAAAygAAAAEAAAM8c3RzegAAAAAAAAAAAAAAygAABdYAAAAYAAAAIAAAABMAAAATAAAAEwAAABcAAAAQAAAAFgAAABUAAAAXAAAAEAAAABUAAAAVAAAAFwAAABAAAAAVAAAAFQAAABcAAAAQAAAAFQAAABUAAAAXAAAAEAAAABUAAAAVAAAAFwAAABAAAAAVAAAAFQAAABcAAAAQAAAAFQAAABUAAAAXAAAAEAAAABUAAAAVAAAAFwAAABAAAAAVAAAAFQAAABcAAAAQAAAAFQAAABUAAAAXAAAAEAAAABUAAAAVAAAAFwAAABAAAAAVAAAAFQAAABcAAAAQAAAAFQAAABUAAAAXAAAAEAAAABUAAAAVAAAAFwAAABAAAAAVAAAAFQAAABcAAAAQAAAAFQAAABUAAAAXAAAAEAAAABUAAAAVAAAAFwAAABAAAAAVAAAAFQAAABcAAAAQAAAAFQAAABUAAAAXAAAAEAAAABUAAAAVAAAAFwAAABAAAAAVAAAAFQAAABcAAAAQAAAAFQAAABUAAAAXAAAAEAAAABUAAAAVAAAAFwAAABAAAAAVAAAAFQAAABcAAAAQAAAAFQAAABUAAAAXAAAAEAAAABUAAAAVAAAAFwAAABAAAAAVAAAAFQAAABcAAAAQAAAAFQAAABUAAAAXAAAAEAAAABUAAAAVAAAAFwAAABAAAAAVAAAAFQAAABcAAAAQAAAAFQAAABUAAAAXAAAAEAAAABUAAAAVAAAAFwAAABAAAAAVAAAAFQAAABcAAAAQAAAAFQAAABUAAAAXAAAAEAAAABUAAAAVAAAAFwAAABAAAAAVAAAAFQAAABcAAAAQAAAAFQAAABUAAAAXAAAAEAAAABUAAAAVAAAAFwAAABAAAAAVAAAAFQAAABcAAAAQAAAAFQAAABUAAAAXAAAAEAAAABUAAAAVAAAAFwAAABAAAAAVAAAAFQAAABcAAAAQAAAAFQAAABUAAAAXAAAAEAAAABUAAAAVAAAAFwAAABAAAAAVAAAAFQAAABcAAAAQAAAAFQAAABUAAAAWAAAAEAAAABUAAAAVAAAAFgAAABAAAAAVAAAAFQAAAB4AAAAnAAAAFgAAACwAAAAUc3RjbwAAAAAAAAABAAAAMAAAAGJ1ZHRhAAAAWm1ldGEAAAAAAAAAIWhkbHIAAAAAAAAAAG1kaXJhcHBsAAAAAAAAAAAAAAAALWlsc3QAAAAlqXRvbwAAAB1kYXRhAAAAAQAAAABMYXZmNTguMjAuMTAw\" type=\"video/mp4\" />\n",
       "             </video>"
      ],
      "text/plain": [
       "<IPython.core.display.HTML object>"
      ]
     },
     "execution_count": 16,
     "metadata": {},
     "output_type": "execute_result"
    }
   ],
   "source": [
    "HTML(display_videos('cnn_test10.mp4'))"
   ]
  },
  {
   "cell_type": "code",
   "execution_count": 17,
   "metadata": {
    "ExecuteTime": {
     "end_time": "2020-02-22T12:32:48.009900Z",
     "start_time": "2020-02-22T12:32:48.005636Z"
    }
   },
   "outputs": [
    {
     "data": {
      "text/html": [
       "<video alt=\"test\" controls>\n",
       "                <source src=\"data:video/mp4;base64,AAAAIGZ0eXBpc29tAAACAGlzb21pc28yYXZjMW1wNDEAAAAIZnJlZQAAFeFtZGF0AAACrQYF//+p3EXpvebZSLeWLNgg2SPu73gyNjQgLSBjb3JlIDE1NSByMjkxNyAwYTg0ZDk4IC0gSC4yNjQvTVBFRy00IEFWQyBjb2RlYyAtIENvcHlsZWZ0IDIwMDMtMjAxOCAtIGh0dHA6Ly93d3cudmlkZW9sYW4ub3JnL3gyNjQuaHRtbCAtIG9wdGlvbnM6IGNhYmFjPTEgcmVmPTMgZGVibG9jaz0xOjA6MCBhbmFseXNlPTB4MToweDExMSBtZT1oZXggc3VibWU9NyBwc3k9MSBwc3lfcmQ9MS4wMDowLjAwIG1peGVkX3JlZj0xIG1lX3JhbmdlPTE2IGNocm9tYV9tZT0xIHRyZWxsaXM9MSA4eDhkY3Q9MCBjcW09MCBkZWFkem9uZT0yMSwxMSBmYXN0X3Bza2lwPTEgY2hyb21hX3FwX29mZnNldD00IHRocmVhZHM9OCBsb29rYWhlYWRfdGhyZWFkcz0xIHNsaWNlZF90aHJlYWRzPTAgbnI9MCBkZWNpbWF0ZT0xIGludGVybGFjZWQ9MCBibHVyYXlfY29tcGF0PTAgY29uc3RyYWluZWRfaW50cmE9MCBiZnJhbWVzPTMgYl9weXJhbWlkPTIgYl9hZGFwdD0xIGJfYmlhcz0wIGRpcmVjdD0xIHdlaWdodGI9MSBvcGVuX2dvcD0wIHdlaWdodHA9MiBrZXlpbnQ9MjUwIGtleWludF9taW49MjUgc2NlbmVjdXQ9NDAgaW50cmFfcmVmcmVzaD0wIHJjX2xvb2thaGVhZD00MCByYz1jcmYgbWJ0cmVlPTEgY3JmPTIzLjAgcWNvbXA9MC42MCBxcG1pbj0wIHFwbWF4PTY5IHFwc3RlcD00IGlwX3JhdGlvPTEuNDAgYXE9MToxLjAwAIAAAALiZYiEADP//vaG+BTYUyP+T7/8I/+5H7cfWfrixkIJvrVeQ9GAMl8a/5lGYaXpyc8t7R+vTNAEZz6HlLJIofgUkwDfMsjnE+I06ctmnylTgsspTsqRScrVTqQC0xbShz+Uxqi3XPu/DP6F1ZM0CsPU1Z3p4qMGk2hvEPHe2tMkc/CJeliOGpyUUJHq26b+rGYIR1sevPYD0gX643rOSttqE8aeidDrMF3J+NgCGppmfefmSsCmu119U0ihMCo8Ca8oTpo+Opn0bdFTj3nZ/JQfD8sGHr2hrbVYqE7DhZNadtktAnK/69DRb+N41AjfrrMtY1NSLW3u4wx3TJSezT9hUdFF99+oX5jgQk3x87+vNmugIcCBa4SqRhvDoW4LEm4P08Y5N3noFyhLJClJ69NMTkk//9jTw1i53nVZpnvz8guuxCcpFMwRiuqLdMs4QlJFBHrp7Hz5RGp3IjnZHgp1AcavLBx+7nveo4V+y8JXMJVcvJILWzasDnr7p+8cEuhZxG/G8Q7hJ9X+ew+/sAW0i7aFhhmh1K6uMTHKc0YWznGO6GcDzlmagAAAAwFVg4euJF9EXsF2DUSHmyhs8qrIdfCE4Ee2MCcVDweZ3lKuDyGb/BNA/HFyBtaICNt/R2gVl91VpFev8K1zj5SWvUhnQAwppL95mik/5hZxK9mAXui4GEuxj6CrwAALnX01QiKeH6PyU1AR/aqzVmw32DeNZ7qwFMcF+zrARjvPL9qWMH0BgIH7mwiv9NYfgSJfOg1kmteBhDzXqHvdu9hHorNKizf65m94cVZteZGsmnrsuxWa7ABoUkdOyeRZxmyyvDgUunb9tk2jiOrmr5CpDbs0tpUpo1CxXvaXRUKOpm6FMSrR9av8IpppBo/I5J3D71SrzmBNIUkk6woSRMOQE9HP4BeKoE2E/0vKWffR6Y2jx6UHYrfcbjLRXgdPaeJyKpx97izY3mvCGUB/WMDCESLfIAHjAAAAE0GaIWxDP/6eEAAeWFscMHqPsYQAAAAYQZpCPCGTKYQ3//6nhAAH7B4U6zp9166BAAAAHkGaZEnhDyZTBTw3//6nhAAM26tUx/qt8x7r463/gAAAABABnoNqQr8ACoWPLcNm1aqBAAAAH0GahknhDyZTBTw3//6nhAAUbFapj/Vb5j3YyM363LUAAAAPAZ6lakK/ABBdnluGzaqrAAAAGUGap0nhDyZTAhv//qeEAB8DjP9VvmPxNSEAAAAcQZrLSeEPJlMCGf/+nhAAfL19+m17spJi5/TrMAAAABFBnulFETwv/wATWe+5teKCzAAAAA8Bnwh0Qr8AGmeTeecXQIEAAAAQAZ8KakK/ABnCW068AUA3gAAAABlBmwxJqEFomUwIZ//+nhAAM76+/kSI+sQOAAAAGUGbLUnhClJlMCG//qeEAAh3x0+o40JD4sEAAAAZQZtQSeEOiZTAhn/+nhAAIKkXxzm+rK7ptwAAABJBn25FETwr/wAG6dqBCRj+GUEAAAAOAZ+PakK/AAbp2q6frEoAAAAZQZuRSahBaJlMCGf//p4QACGiHH88F/JInAAAABlBm7JJ4QpSZTAhv/6nhAAIt8dPqONCQ+BBAAAAGEGb00nhDomUwIb//qeEAAXPFaQQif5cawAAABlBm/RJ4Q8mUwId//6plgADAQWVmeQlIansAAAAIUGaFknhDyZTBRE8O//+qZYAAxntL9stA4f1xWYtNxrb4QAAABABnjVqQr8ABPqUbzTFW4zAAAAAEkGaOknhDyZTAh3//qmWAACVgQAAAAxBnlhFETwv/wAAsoEAAAAQAZ53dEK/AAT7oBz+tA6KwAAAABABnnlqQr8ABPo2u6yGHRWBAAAAE0GafkmoQWiZTAh3//6plgAAlYAAAAAMQZ6cRREsL/8AALKBAAAAEAGeu3RCvwAE+6Ac/rQOisEAAAAQAZ69akK/AAT6Nrushh0VgAAAABNBmqJJqEFsmUwId//+qZYAAJWAAAAADEGewEUVLC//AACygQAAABABnv90Qr8ABPugHP60DorAAAAAEAGe4WpCvwAE+ja7rIYdFYEAAAATQZrmSahBbJlMCHf//qmWAACVgAAAAAxBnwRFFSwv/wAAsoEAAAAQAZ8jdEK/AAT7oBz+tA6KwQAAABABnyVqQr8ABPo2u6yGHRWBAAAAE0GbKkmoQWyZTAh3//6plgAAlYEAAAAMQZ9IRRUsL/8AALKAAAAAEAGfZ3RCvwAE+6Ac/rQOisAAAAAQAZ9pakK/AAT6Nrushh0VgQAAABNBm25JqEFsmUwId//+qZYAAJWAAAAADEGfjEUVLC//AACygAAAABABn6t0Qr8ABPugHP60DorBAAAAEAGfrWpCvwAE+ja7rIYdFYEAAAATQZuySahBbJlMCHf//qmWAACVgQAAAAxBn9BFFSwv/wAAsoAAAAAQAZ/vdEK/AAT7oBz+tA6KwAAAABABn/FqQr8ABPo2u6yGHRWBAAAAE0Gb9kmoQWyZTAh3//6plgAAlYAAAAAMQZ4URRUsL/8AALKAAAAAEAGeM3RCvwAE+6Ac/rQOisEAAAAQAZ41akK/AAT6Nrushh0VgAAAABNBmjpJqEFsmUwId//+qZYAAJWBAAAADEGeWEUVLC//AACygQAAABABnnd0Qr8ABPugHP60DorAAAAAEAGeeWpCvwAE+ja7rIYdFYEAAAATQZp+SahBbJlMCHf//qmWAACVgAAAAAxBnpxFFSwv/wAAsoEAAAAQAZ67dEK/AAT7oBz+tA6KwQAAABABnr1qQr8ABPo2u6yGHRWAAAAAE0GaokmoQWyZTAh3//6plgAAlYAAAAAMQZ7ARRUsL/8AALKBAAAAEAGe/3RCvwAE+6Ac/rQOisAAAAAQAZ7hakK/AAT6Nrushh0VgQAAABNBmuZJqEFsmUwId//+qZYAAJWAAAAADEGfBEUVLC//AACygQAAABABnyN0Qr8ABPugHP60DorBAAAAEAGfJWpCvwAE+ja7rIYdFYEAAAATQZsqSahBbJlMCHf//qmWAACVgQAAAAxBn0hFFSwv/wAAsoAAAAAQAZ9ndEK/AAT7oBz+tA6KwAAAABABn2lqQr8ABPo2u6yGHRWBAAAAE0GbbkmoQWyZTAh3//6plgAAlYAAAAAMQZ+MRRUsL/8AALKAAAAAEAGfq3RCvwAE+6Ac/rQOisEAAAAQAZ+takK/AAT6Nrushh0VgQAAABNBm7JJqEFsmUwId//+qZYAAJWBAAAADEGf0EUVLC//AACygAAAABABn+90Qr8ABPugHP60DorAAAAAEAGf8WpCvwAE+ja7rIYdFYEAAAATQZv2SahBbJlMCHf//qmWAACVgAAAAAxBnhRFFSwv/wAAsoAAAAAQAZ4zdEK/AAT7oBz+tA6KwQAAABABnjVqQr8ABPo2u6yGHRWAAAAAE0GaOkmoQWyZTAh3//6plgAAlYEAAAAMQZ5YRRUsL/8AALKBAAAAEAGed3RCvwAE+6Ac/rQOisAAAAAQAZ55akK/AAT6Nrushh0VgQAAABNBmn5JqEFsmUwId//+qZYAAJWAAAAADEGenEUVLC//AACygQAAABABnrt0Qr8ABPugHP60DorBAAAAEAGevWpCvwAE+ja7rIYdFYAAAAATQZqiSahBbJlMCHf//qmWAACVgAAAAAxBnsBFFSwv/wAAsoEAAAAQAZ7/dEK/AAT7oBz+tA6KwAAAABABnuFqQr8ABPo2u6yGHRWBAAAAE0Ga5kmoQWyZTAh3//6plgAAlYAAAAAMQZ8ERRUsL/8AALKBAAAAEAGfI3RCvwAE+6Ac/rQOisEAAAAQAZ8lakK/AAT6Nrushh0VgQAAABNBmypJqEFsmUwId//+qZYAAJWBAAAADEGfSEUVLC//AACygAAAABABn2d0Qr8ABPugHP60DorAAAAAEAGfaWpCvwAE+ja7rIYdFYEAAAATQZtuSahBbJlMCHf//qmWAACVgAAAAAxBn4xFFSwv/wAAsoAAAAAQAZ+rdEK/AAT7oBz+tA6KwQAAABABn61qQr8ABPo2u6yGHRWBAAAAE0GbskmoQWyZTAh3//6plgAAlYEAAAAMQZ/QRRUsL/8AALKAAAAAEAGf73RCvwAE+6Ac/rQOisAAAAAQAZ/xakK/AAT6Nrushh0VgQAAABNBm/ZJqEFsmUwId//+qZYAAJWAAAAADEGeFEUVLC//AACygAAAABABnjN0Qr8ABPugHP60DorBAAAAEAGeNWpCvwAE+ja7rIYdFYAAAAATQZo6SahBbJlMCHf//qmWAACVgQAAAAxBnlhFFSwv/wAAsoEAAAAQAZ53dEK/AAT7oBz+tA6KwAAAABABnnlqQr8ABPo2u6yGHRWBAAAAE0GafkmoQWyZTAh3//6plgAAlYAAAAAMQZ6cRRUsL/8AALKBAAAAEAGeu3RCvwAE+6Ac/rQOisEAAAAQAZ69akK/AAT6Nrushh0VgAAAABNBmqJJqEFsmUwId//+qZYAAJWAAAAADEGewEUVLC//AACygQAAABABnv90Qr8ABPugHP60DorAAAAAEAGe4WpCvwAE+ja7rIYdFYEAAAATQZrmSahBbJlMCHf//qmWAACVgAAAAAxBnwRFFSwv/wAAsoEAAAAQAZ8jdEK/AAT7oBz+tA6KwQAAABABnyVqQr8ABPo2u6yGHRWBAAAAE0GbKkmoQWyZTAh3//6plgAAlYEAAAAMQZ9IRRUsL/8AALKAAAAAEAGfZ3RCvwAE+6Ac/rQOisAAAAAQAZ9pakK/AAT6Nrushh0VgQAAABNBm25JqEFsmUwId//+qZYAAJWAAAAADEGfjEUVLC//AACygAAAABABn6t0Qr8ABPugHP60DorBAAAAEAGfrWpCvwAE+ja7rIYdFYEAAAATQZuySahBbJlMCHf//qmWAACVgQAAAAxBn9BFFSwv/wAAsoAAAAAQAZ/vdEK/AAT7oBz+tA6KwAAAABABn/FqQr8ABPo2u6yGHRWBAAAAE0Gb9kmoQWyZTAh3//6plgAAlYAAAAAMQZ4URRUsL/8AALKAAAAAEAGeM3RCvwAE+6Ac/rQOisEAAAAQAZ41akK/AAT6Nrushh0VgAAAABNBmjpJqEFsmUwId//+qZYAAJWBAAAADEGeWEUVLC//AACygQAAABABnnd0Qr8ABPugHP60DorAAAAAEAGeeWpCvwAE+ja7rIYdFYEAAAATQZp+SahBbJlMCHf//qmWAACVgAAAAAxBnpxFFSwv/wAAsoEAAAAQAZ67dEK/AAT7oBz+tA6KwQAAABABnr1qQr8ABPo2u6yGHRWAAAAAE0GaokmoQWyZTAh3//6plgAAlYAAAAAMQZ7ARRUsL/8AALKBAAAAEAGe/3RCvwAE+6Ac/rQOisAAAAAQAZ7hakK/AAT6Nrushh0VgQAAABNBmuZJqEFsmUwId//+qZYAAJWAAAAADEGfBEUVLC//AACygQAAABABnyN0Qr8ABPugHP60DorBAAAAEAGfJWpCvwAE+ja7rIYdFYEAAAATQZsqSahBbJlMCHf//qmWAACVgQAAAAxBn0hFFSwv/wAAsoAAAAAQAZ9ndEK/AAT7oBz+tA6KwAAAABABn2lqQr8ABPo2u6yGHRWBAAAAE0GbbkmoQWyZTAh3//6plgAAlYAAAAAMQZ+MRRUsL/8AALKAAAAAEAGfq3RCvwAE+6Ac/rQOisEAAAAQAZ+takK/AAT6Nrushh0VgQAAABNBm7JJqEFsmUwId//+qZYAAJWBAAAADEGf0EUVLC//AACygAAAABABn+90Qr8ABPugHP60DorAAAAAEAGf8WpCvwAE+ja7rIYdFYEAAAATQZv2SahBbJlMCHf//qmWAACVgAAAAAxBnhRFFSwv/wAAsoAAAAAQAZ4zdEK/AAT7oBz+tA6KwQAAABABnjVqQr8ABPo2u6yGHRWAAAAAE0GaOkmoQWyZTAh3//6plgAAlYEAAAAMQZ5YRRUsL/8AALKBAAAAEAGed3RCvwAE+6Ac/rQOisAAAAAQAZ55akK/AAT6Nrushh0VgQAAABNBmn5JqEFsmUwId//+qZYAAJWAAAAADEGenEUVLC//AACygQAAABABnrt0Qr8ABPugHP60DorBAAAAEAGevWpCvwAE+ja7rIYdFYAAAAASQZqiSahBbJlMCG///qeEAAEnAAAADEGewEUVLC//AACygQAAABABnv90Qr8ABPugHP60DorAAAAAEAGe4WpCvwAE+ja7rIYdFYEAAAASQZrmSahBbJlMCGf//p4QAAR8AAAADEGfBEUVLC//AACygQAAABABnyN0Qr8ABPugHP60DorBAAAAEAGfJWpCvwAE+ja7rIYdFYEAAAAaQZspS6hCEFskRggoB/IB/YeAIV/+OEAAEXEAAAAmQZ9HRRUsK/8Cr2PtQcTdqsNJJuWqhgcstbvNKiCaLC4i0hEXFr8AAAAiAZ9oakK/Aq9j7UHE3arDSSblqoYHLLW7zSogmiw6tH4/wAAADEhtb292AAAAbG12aGQAAAAAAAAAAAAAAAAAAAPoAAAfkAABAAABAAAAAAAAAAAAAAAAAQAAAAAAAAAAAAAAAAAAAAEAAAAAAAAAAAAAAAAAAEAAAAAAAAAAAAAAAAAAAAAAAAAAAAAAAAAAAAAAAAACAAALcnRyYWsAAABcdGtoZAAAAAMAAAAAAAAAAAAAAAEAAAAAAAAfkAAAAAAAAAAAAAAAAAAAAAAAAQAAAAAAAAAAAAAAAAAAAAEAAAAAAAAAAAAAAAAAAEAAAAABEAAAARAAAAAAACRlZHRzAAAAHGVsc3QAAAAAAAAAAQAAH5AAAAQAAAEAAAAACuptZGlhAAAAIG1kaGQAAAAAAAAAAAAAAAAAADIAAAGUAFXEAAAAAAAtaGRscgAAAAAAAAAAdmlkZQAAAAAAAAAAAAAAAFZpZGVvSGFuZGxlcgAAAAqVbWluZgAAABR2bWhkAAAAAQAAAAAAAAAAAAAAJGRpbmYAAAAcZHJlZgAAAAAAAAABAAAADHVybCAAAAABAAAKVXN0YmwAAACVc3RzZAAAAAAAAAABAAAAhWF2YzEAAAAAAAAAAQAAAAAAAAAAAAAAAAAAAAABEAEQAEgAAABIAAAAAAAAAAEAAAAAAAAAAAAAAAAAAAAAAAAAAAAAAAAAAAAAAAAAAAAY//8AAAAvYXZjQwH0AA3/4QAXZ/QADZGbKCIR0IAAAAMAgAAAGQeKFMsBAAVo6+PESAAAABhzdHRzAAAAAAAAAAEAAADKAAACAAAAABRzdHNzAAAAAAAAAAEAAAABAAAGIGN0dHMAAAAAAAAAwgAAAAMAAAQAAAAAAQAABgAAAAABAAACAAAAAAEAAAYAAAAAAQAAAgAAAAABAAAEAAAAAAEAAAoAAAAAAQAABAAAAAABAAAAAAAAAAEAAAIAAAAAAgAABAAAAAABAAAIAAAAAAIAAAIAAAAABAAABAAAAAABAAAGAAAAAAEAAAIAAAAAAQAACgAAAAABAAAEAAAAAAEAAAAAAAAAAQAAAgAAAAABAAAKAAAAAAEAAAQAAAAAAQAAAAAAAAABAAACAAAAAAEAAAoAAAAAAQAABAAAAAABAAAAAAAAAAEAAAIAAAAAAQAACgAAAAABAAAEAAAAAAEAAAAAAAAAAQAAAgAAAAABAAAKAAAAAAEAAAQAAAAAAQAAAAAAAAABAAACAAAAAAEAAAoAAAAAAQAABAAAAAABAAAAAAAAAAEAAAIAAAAAAQAACgAAAAABAAAEAAAAAAEAAAAAAAAAAQAAAgAAAAABAAAKAAAAAAEAAAQAAAAAAQAAAAAAAAABAAACAAAAAAEAAAoAAAAAAQAABAAAAAABAAAAAAAAAAEAAAIAAAAAAQAACgAAAAABAAAEAAAAAAEAAAAAAAAAAQAAAgAAAAABAAAKAAAAAAEAAAQAAAAAAQAAAAAAAAABAAACAAAAAAEAAAoAAAAAAQAABAAAAAABAAAAAAAAAAEAAAIAAAAAAQAACgAAAAABAAAEAAAAAAEAAAAAAAAAAQAAAgAAAAABAAAKAAAAAAEAAAQAAAAAAQAAAAAAAAABAAACAAAAAAEAAAoAAAAAAQAABAAAAAABAAAAAAAAAAEAAAIAAAAAAQAACgAAAAABAAAEAAAAAAEAAAAAAAAAAQAAAgAAAAABAAAKAAAAAAEAAAQAAAAAAQAAAAAAAAABAAACAAAAAAEAAAoAAAAAAQAABAAAAAABAAAAAAAAAAEAAAIAAAAAAQAACgAAAAABAAAEAAAAAAEAAAAAAAAAAQAAAgAAAAABAAAKAAAAAAEAAAQAAAAAAQAAAAAAAAABAAACAAAAAAEAAAoAAAAAAQAABAAAAAABAAAAAAAAAAEAAAIAAAAAAQAACgAAAAABAAAEAAAAAAEAAAAAAAAAAQAAAgAAAAABAAAKAAAAAAEAAAQAAAAAAQAAAAAAAAABAAACAAAAAAEAAAoAAAAAAQAABAAAAAABAAAAAAAAAAEAAAIAAAAAAQAACgAAAAABAAAEAAAAAAEAAAAAAAAAAQAAAgAAAAABAAAKAAAAAAEAAAQAAAAAAQAAAAAAAAABAAACAAAAAAEAAAoAAAAAAQAABAAAAAABAAAAAAAAAAEAAAIAAAAAAQAACgAAAAABAAAEAAAAAAEAAAAAAAAAAQAAAgAAAAABAAAKAAAAAAEAAAQAAAAAAQAAAAAAAAABAAACAAAAAAEAAAoAAAAAAQAABAAAAAABAAAAAAAAAAEAAAIAAAAAAQAACgAAAAABAAAEAAAAAAEAAAAAAAAAAQAAAgAAAAABAAAKAAAAAAEAAAQAAAAAAQAAAAAAAAABAAACAAAAAAEAAAoAAAAAAQAABAAAAAABAAAAAAAAAAEAAAIAAAAAAQAACgAAAAABAAAEAAAAAAEAAAAAAAAAAQAAAgAAAAABAAAKAAAAAAEAAAQAAAAAAQAAAAAAAAABAAACAAAAAAEAAAoAAAAAAQAABAAAAAABAAAAAAAAAAEAAAIAAAAAAQAACgAAAAABAAAEAAAAAAEAAAAAAAAAAQAAAgAAAAABAAAKAAAAAAEAAAQAAAAAAQAAAAAAAAABAAACAAAAAAEAAAoAAAAAAQAABAAAAAABAAAAAAAAAAEAAAIAAAAAAQAACgAAAAABAAAEAAAAAAEAAAAAAAAAAQAAAgAAAAABAAAKAAAAAAEAAAQAAAAAAQAAAAAAAAABAAACAAAAAAEAAAoAAAAAAQAABAAAAAABAAAAAAAAAAEAAAIAAAAAAQAACgAAAAABAAAEAAAAAAEAAAAAAAAAAQAAAgAAAAABAAAKAAAAAAEAAAQAAAAAAQAAAAAAAAABAAACAAAAAAEAAAgAAAAAAgAAAgAAAAAcc3RzYwAAAAAAAAABAAAAAQAAAMoAAAABAAADPHN0c3oAAAAAAAAAAAAAAMoAAAWXAAAAFwAAABwAAAAiAAAAFAAAACMAAAATAAAAHQAAACAAAAAVAAAAEwAAABQAAAAdAAAAHQAAAB0AAAAWAAAAEgAAAB0AAAAdAAAAHAAAAB0AAAAlAAAAFAAAABYAAAAQAAAAFAAAABQAAAAXAAAAEAAAABQAAAAUAAAAFwAAABAAAAAUAAAAFAAAABcAAAAQAAAAFAAAABQAAAAXAAAAEAAAABQAAAAUAAAAFwAAABAAAAAUAAAAFAAAABcAAAAQAAAAFAAAABQAAAAXAAAAEAAAABQAAAAUAAAAFwAAABAAAAAUAAAAFAAAABcAAAAQAAAAFAAAABQAAAAXAAAAEAAAABQAAAAUAAAAFwAAABAAAAAUAAAAFAAAABcAAAAQAAAAFAAAABQAAAAXAAAAEAAAABQAAAAUAAAAFwAAABAAAAAUAAAAFAAAABcAAAAQAAAAFAAAABQAAAAXAAAAEAAAABQAAAAUAAAAFwAAABAAAAAUAAAAFAAAABcAAAAQAAAAFAAAABQAAAAXAAAAEAAAABQAAAAUAAAAFwAAABAAAAAUAAAAFAAAABcAAAAQAAAAFAAAABQAAAAXAAAAEAAAABQAAAAUAAAAFwAAABAAAAAUAAAAFAAAABcAAAAQAAAAFAAAABQAAAAXAAAAEAAAABQAAAAUAAAAFwAAABAAAAAUAAAAFAAAABcAAAAQAAAAFAAAABQAAAAXAAAAEAAAABQAAAAUAAAAFwAAABAAAAAUAAAAFAAAABcAAAAQAAAAFAAAABQAAAAXAAAAEAAAABQAAAAUAAAAFwAAABAAAAAUAAAAFAAAABcAAAAQAAAAFAAAABQAAAAXAAAAEAAAABQAAAAUAAAAFwAAABAAAAAUAAAAFAAAABcAAAAQAAAAFAAAABQAAAAXAAAAEAAAABQAAAAUAAAAFwAAABAAAAAUAAAAFAAAABcAAAAQAAAAFAAAABQAAAAXAAAAEAAAABQAAAAUAAAAFwAAABAAAAAUAAAAFAAAABYAAAAQAAAAFAAAABQAAAAWAAAAEAAAABQAAAAUAAAAHgAAACoAAAAmAAAAFHN0Y28AAAAAAAAAAQAAADAAAABidWR0YQAAAFptZXRhAAAAAAAAACFoZGxyAAAAAAAAAABtZGlyYXBwbAAAAAAAAAAAAAAAAC1pbHN0AAAAJal0b28AAAAdZGF0YQAAAAEAAAAATGF2ZjU4LjIwLjEwMA==\" type=\"video/mp4\" />\n",
       "             </video>"
      ],
      "text/plain": [
       "<IPython.core.display.HTML object>"
      ]
     },
     "execution_count": 17,
     "metadata": {},
     "output_type": "execute_result"
    }
   ],
   "source": [
    "HTML(display_videos('fc_test10.mp4'))"
   ]
  },
  {
   "cell_type": "code",
   "execution_count": 18,
   "metadata": {
    "ExecuteTime": {
     "end_time": "2020-02-22T12:33:28.833972Z",
     "start_time": "2020-02-22T12:32:48.011977Z"
    }
   },
   "outputs": [
    {
     "name": "stdout",
     "output_type": "stream",
     "text": [
      "Temperature 0.1 (mean best achievable score: 8.45)\n",
      "Win/lose count 3.0/0. Average score (3.00)\n",
      "Win/lose count 2.0/0. Average score (2.50)\n",
      "Win/lose count 0/0. Average score (1.67)\n",
      "Win/lose count 2.0/0. Average score (1.75)\n",
      "Win/lose count 2.5/0. Average score (1.90)\n",
      "Win/lose count 2.0/0. Average score (1.92)\n",
      "Win/lose count 1.0/0. Average score (1.79)\n",
      "Win/lose count 0.5/0. Average score (1.62)\n",
      "Win/lose count 0/0. Average score (1.44)\n",
      "Win/lose count 3.5/0. Average score (1.65)\n",
      "Win/lose count 2.5/0. Average score (1.73)\n",
      "Final score: 1.73 (mean best achievable score: 8.45)\n",
      "20.44%\n",
      "\n",
      "\n",
      "Temperature 0.2 (mean best achievable score: 16.90)\n",
      "Win/lose count 6.5/0. Average score (6.50)\n",
      "Win/lose count 5.5/0. Average score (6.00)\n",
      "Win/lose count 0/0. Average score (4.00)\n",
      "Win/lose count 0.5/0. Average score (3.12)\n",
      "Win/lose count 5.5/0. Average score (3.60)\n",
      "Win/lose count 0.5/0. Average score (3.08)\n",
      "Win/lose count 2.0/0. Average score (2.93)\n",
      "Win/lose count 1.0/0. Average score (2.69)\n",
      "Win/lose count 2.0/0. Average score (2.61)\n",
      "Win/lose count 4.0/0. Average score (2.75)\n",
      "Win/lose count 1.5/0. Average score (2.64)\n",
      "Final score: 2.64 (mean best achievable score: 16.90)\n",
      "15.60%\n",
      "\n",
      "\n",
      "Temperature 0.3 (mean best achievable score: 25.35)\n",
      "Win/lose count 1.5/0. Average score (1.50)\n",
      "Win/lose count 0.5/0. Average score (1.00)\n",
      "Win/lose count 0.5/0. Average score (0.83)\n",
      "Win/lose count 2.0/0. Average score (1.12)\n",
      "Win/lose count 3.5/0. Average score (1.60)\n",
      "Win/lose count 5.5/0. Average score (2.25)\n",
      "Win/lose count 10.0/0. Average score (3.36)\n",
      "Win/lose count 9.5/0. Average score (4.12)\n",
      "Win/lose count 5.0/0. Average score (4.22)\n",
      "Win/lose count 2.5/0. Average score (4.05)\n",
      "Win/lose count 0.5/0. Average score (3.73)\n",
      "Final score: 3.73 (mean best achievable score: 25.35)\n",
      "14.70%\n",
      "\n",
      "\n",
      "Temperature 0.5 (mean best achievable score: 42.25)\n",
      "Win/lose count 3.5/0. Average score (3.50)\n",
      "Win/lose count 8.0/0. Average score (5.75)\n",
      "Win/lose count 4.5/0. Average score (5.33)\n",
      "Win/lose count 7.5/0. Average score (5.88)\n",
      "Win/lose count 6.0/0. Average score (5.90)\n",
      "Win/lose count 9.5/0. Average score (6.50)\n",
      "Win/lose count 3.5/0. Average score (6.07)\n",
      "Win/lose count 3.5/1.0. Average score (5.62)\n",
      "Win/lose count 1.5/0. Average score (5.17)\n",
      "Win/lose count 4.0/0. Average score (5.05)\n",
      "Win/lose count 8.5/0. Average score (5.36)\n",
      "Final score: 5.36 (mean best achievable score: 42.25)\n",
      "12.69%\n",
      "\n",
      "\n",
      "Temperature 0.8 (mean best achievable score: 67.60)\n",
      "Win/lose count 34.0/0. Average score (34.00)\n",
      "Win/lose count 24.0/2.0. Average score (28.00)\n",
      "Win/lose count 17.0/1.0. Average score (24.00)\n",
      "Win/lose count 5.5/0. Average score (19.38)\n",
      "Win/lose count 22.5/0. Average score (20.00)\n",
      "Win/lose count 18.5/0. Average score (19.75)\n",
      "Win/lose count 11.5/0. Average score (18.57)\n",
      "Win/lose count 29.0/0. Average score (19.88)\n",
      "Win/lose count 44.5/1.0. Average score (22.50)\n",
      "Win/lose count 34.5/0. Average score (23.70)\n",
      "Win/lose count 29.0/0. Average score (24.18)\n",
      "Final score: 24.18 (mean best achievable score: 67.60)\n",
      "35.77%\n",
      "\n",
      "\n"
     ]
    },
    {
     "data": {
      "text/html": [
       "<video alt=\"test\" controls>\n",
       "                <source src=\"data:video/mp4;base64,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\" type=\"video/mp4\" />\n",
       "             </video>\n",
       "<video alt=\"test\" controls>\n",
       "                <source src=\"data:video/mp4;base64,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\" type=\"video/mp4\" />\n",
       "             </video>\n",
       "<video alt=\"test\" controls>\n",
       "                <source src=\"data:video/mp4;base64,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\" type=\"video/mp4\" />\n",
       "             </video>\n",
       "<video alt=\"test\" controls>\n",
       "                <source src=\"data:video/mp4;base64,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\" type=\"video/mp4\" />\n",
       "             </video>\n",
       "<video alt=\"test\" controls>\n",
       "                <source src=\"data:video/mp4;base64,AAAAIGZ0eXBpc29tAAACAGlzb21pc28yYXZjMW1wNDEAAAAIZnJlZQAAFoZtZGF0AAACrQYF//+p3EXpvebZSLeWLNgg2SPu73gyNjQgLSBjb3JlIDE1NSByMjkxNyAwYTg0ZDk4IC0gSC4yNjQvTVBFRy00IEFWQyBjb2RlYyAtIENvcHlsZWZ0IDIwMDMtMjAxOCAtIGh0dHA6Ly93d3cudmlkZW9sYW4ub3JnL3gyNjQuaHRtbCAtIG9wdGlvbnM6IGNhYmFjPTEgcmVmPTMgZGVibG9jaz0xOjA6MCBhbmFseXNlPTB4MToweDExMSBtZT1oZXggc3VibWU9NyBwc3k9MSBwc3lfcmQ9MS4wMDowLjAwIG1peGVkX3JlZj0xIG1lX3JhbmdlPTE2IGNocm9tYV9tZT0xIHRyZWxsaXM9MSA4eDhkY3Q9MCBjcW09MCBkZWFkem9uZT0yMSwxMSBmYXN0X3Bza2lwPTEgY2hyb21hX3FwX29mZnNldD00IHRocmVhZHM9OCBsb29rYWhlYWRfdGhyZWFkcz0xIHNsaWNlZF90aHJlYWRzPTAgbnI9MCBkZWNpbWF0ZT0xIGludGVybGFjZWQ9MCBibHVyYXlfY29tcGF0PTAgY29uc3RyYWluZWRfaW50cmE9MCBiZnJhbWVzPTMgYl9weXJhbWlkPTIgYl9hZGFwdD0xIGJfYmlhcz0wIGRpcmVjdD0xIHdlaWdodGI9MSBvcGVuX2dvcD0wIHdlaWdodHA9MiBrZXlpbnQ9MjUwIGtleWludF9taW49MjUgc2NlbmVjdXQ9NDAgaW50cmFfcmVmcmVzaD0wIHJjX2xvb2thaGVhZD00MCByYz1jcmYgbWJ0cmVlPTEgY3JmPTIzLjAgcWNvbXA9MC42MCBxcG1pbj0wIHFwbWF4PTY5IHFwc3RlcD00IGlwX3JhdGlvPTEuNDAgYXE9MToxLjAwAIAAAAG8ZYiEADf//vaH+BTZWBP+Wb/9DX/cj9uPrP1xYyEE31qvIejAGS+1H+b/rFFs6Z6UB/fgCJQAc24ZwpIoZ/8CmWxwvgUK/HE+UwozlT/KDbJHQMPX7cQxXYWbtaey6K02iecaLw+5JrPuGqvo73NohiDUPJo6Yz/L2GI8nC9WrRvJPPG6IYh7AfSI0HSdd/OcVZ8OYSE+JxQmnFKoyEd0wWRKaU1lHI5U9rj/hVhDSox7m9INTozrUZddtFwDYkKycFYfuFGNvcZYY/s4AlIuNogA12fQ3mddQnSNLqaLLzIgcoGBHWGJIEjQ55Ny3MgaU6QIDyEiiaxYRn43o+0oaFtNAEUA6NCyNyrBE9McsArxCunsrGo/vDPO3AG1OZUD9GKtNb5aOB9kuFCmVirkGRoyG36P2gT/gDa/KIHjN3W33uoM+i0ZlLIJ122yBFPxzlBipK90ij2qzSvpBIkb3ZcwtJP0YrDSU3R9vijMYLnlczIBJ5S/2WhAFBVVlALl15TWiqeNRDC9BsiNDXUXcYhmT8zIhqFoVGh4ZbSHCinpY/lrI3NNjNE1VXKSVnXNAt4TETVoVCKIACThAAAAK0GaJGxDf/6nhAEd+RwYs5ljwjnwKaum2+BST+5b/WLPt/I29MBVMhI8PlgAAAATQZ5CeIX/AKzRTpcaMPFpSrMOswAAABABnmF0Qr8A58VarwIrtrKAAAAAEAGeY2pCvwDnhAJ14An82YEAAAAgQZpmSahBaJlMFPDP/p4QAdH2PgQn+Zl3I3ZrxsbVqVEAAAAQAZ6FakK/AGIJkmm+kg40kQAAACFBmohJ4QpSZTBSwz/+nhAB5PXI3Yy8yZE0SECZaC/cO6EAAAAQAZ6nakK/AGcdU8mB69vKgAAAABlBmqlJ4Q6JlMCGf/6eEAL3wY5+gOcG3xHwAAAAGEGayknhDyZTAhn//p4QBJDhHP0YDsz67wAAABhBmutJ4Q8mUwIZ//6eEAiHxHPyVcPDU7oAAAAYQZsMSeEPJlMCGf/+nhAJAvcX/iOoIrF3AAAAGEGbLUnhDyZTAhn//p4QCQL3GjFtsWmRHwAAABhBm05J4Q8mUwIZ//6eEAS34h/bIY+sIW0AAAAhQZtwSeEPJlMFETwz//6eEAMP6+/qFvc1x9WQACme1Z7pAAAAEAGfj2pCvwCjtyGH0BIOLFgAAAAZQZuRSeEPJlMCGf/+nhAB+vXG4VFbOAxqQAAAABhBm7JJ4Q8mUwIZ//6eEAFR9030VKzXwJMAAAAYQZvTSeEPJlMCGf/+nhAA2Pr7+RIj6wnzAAAAGEGb9EnhDyZTAhn//p4QAIt8Q/tkMfWFiwAAABhBmhVJ4Q8mUwIZ//6eEABbPdN9FSs18d8AAAAYQZo2SeEPJlMCGf/+nhAAOj6+/kSI+sPTAAAAGUGaV0nhDyZTAhv//qeEAAm3x0+o40JD1sEAAAAcQZp6SeEPJlMCGf/+nhAAGJ9fd2nN2+QBqLNUrwAAABNBnphFETwr/wAFHbAEApf8kxeAAAAAEAGeuWpCvwAE+siE3GfXsMkAAAAZQZq7SahBaJlMCGf//p4QACSnCOfw5zfYUgAAABhBmtxJ4QpSZTAhn/6eEAA4hTjn8Oc315sAAAAYQZr9SeEOiZTAhn/+nhAAWHgxz+HOb649AAAAGUGbHknhDyZTAhv//qeEACKoAs22z7Pm0kAAAAAeQZsgSeEPJlMFETw3//6nhAA2PsHr2aprNt483hiCAAAAEAGfX2pCvwAsSjRMiaVnHcEAAAAbQZtDSeEPJlMCGf/+nhABP/dN9gLXZMR9VEeAAAAAEkGfYUURPCv/AEF6dd3gU1CigQAAAA4Bn4JqQr8AQWV14Da8rAAAABlBm4RJqEFomUwIZ//+nhAAg3xD+2Qx9YWfAAAAGUGbpUnhClJlMCGf/p4QAFa94H/99xj6w0EAAAAZQZvGSeEOiZTAhv/+p4QADjewf4Tgt0KkwQAAABlBm+dJ4Q8mUwIb//6nhAAJN8dPqONCQ9tBAAAAHEGaCknhDyZTAhn//p4QABdfdNjLk2TkAaizVM4AAAATQZ4oRRE8K/8ABNZQBAKX/JMfgAAAABABnklqQr8ABLdohNxn17FZAAAAGkGaS0moQWiZTAhv//6nhAAI6gCzbbPs+e9AAAAAGUGabEnhClJlMCG//qeEAA3NIn+q3zH4u6AAAAAhQZqOSeEOiZTBTRMN//6nhAAVr4/QJ317NU1m28aLy5OBAAAAEAGerWpCvwARV5omRNKz1MEAAAA0QZqxSeEPJlMCG//+p4QAMTuM1+IQA//hKiCzF//hJiPxf/6/+tHc9W2PbtVAhP5TMPhKUQAAABRBns9FETwr/wAn1kQy5Y2f70JPgAAAABABnvBqQr8AJ9ZEJuM+vT5IAAAAL0Ga9EmoQWiZTAhn//6eEAG79kDl5llc94+ZYlgvmWTYN8z5x9KtiXKjp22OwJxBAAAAE0GfEkURLCv/AF0sebpzW2EjFbwAAAAQAZ8zakK/AF0seOV/bh90wAAAABpBmzVJqEFsmUwIb//+p4QAsHon+pHRpDTbQQAAABxBm1hJ4QpSZTAhn/6eEAQX5zfHXeYNwfugXibyAAAAE0GfdkU0TCv/ANzDS7h9swZi4sEAAAAQAZ+XakK/ANyR251oYXiQQQAAABlBm5lJqEFomUwIZ//+nhACoe6b6KlZr36SAAAAGEGbuknhClJlMCGf/p4QAbH19/IkR9YR8wAAABhBm9tJ4Q6JlMCGf/6eEAEW+If2yGPrCYsAAAAZQZv8SeEPJlMCG//+p4QALr7qfqONCQ5HwQAAABlBmh1J4Q8mUwIb//6nhAAdz2D/CcFuhOBBAAAAH0GaP0nhDyZTBRE8N//+p4QAE99GRkHE/vF6WEpvdBAAAAAQAZ5eakK/AA/iuDXHira34AAAAB9BmkFJ4Q8mUwU8O//+qZYABqILMWm4m9X1lSvygfRxAAAAEAGeYGpCvwAKzSjeaYq2zMAAAAAdQZpkSeEPJlMCHf/+qZYABGCjnWh6vu1DOZfrQSEAAAASQZ6CRRE8K/8ABxWYu5MHYCemAAAAEAGeo2pCvwAHFZ4Q8aGtD4EAAAAeQZqmSahBaJlMFPDv/qmWAAbyCzFpmdvV98dUu42hAAAAEAGexWpCvwALXYR5MD18Q4EAAAAbQZrKSeEKUmUwId/+qZYACyaWYtM0B3fRj12pAAAAFUGe6EU0TC//AA0ytMYH6LFsFykXEAAAABABnwd0Qr8AEWEAc7Y4021gAAAAEAGfCWpCvwAR3YjyXM+TPIEAAAAcQZsOSahBaJlMCHf//qmWABGCjogWaA7vox657gAAABVBnyxFESwv/wAVCgQTzYhu6Zy2uqQAAAAQAZ9LdEK/ABHXak8r8lN60QAAABABn01qQr8AHFZ4F1/biAvBAAAAE0GbUkmoQWyZTAh3//6plgAAlYEAAAAMQZ9wRRUsL/8AALKAAAAAEAGfj3RCvwAsXQDn9aBybWAAAAAQAZ+RakK/ACxRtd1kMOTawQAAABNBm5ZJqEFsmUwId//+qZYAAJWAAAAADEGftEUVLC//AACygAAAABABn9N0Qr8ALF0A5/Wgcm1hAAAAEAGf1WpCvwAsUbXdZDDk2sAAAAATQZvaSahBbJlMCHf//qmWAACVgQAAAAxBn/hFFSwv/wAAsoEAAAAQAZ4XdEK/ACxdAOf1oHJtYAAAABABnhlqQr8ALFG13WQw5NrBAAAAE0GaHkmoQWyZTAh3//6plgAAlYAAAAAMQZ48RRUsL/8AALKBAAAAEAGeW3RCvwAsXQDn9aBybWEAAAAQAZ5dakK/ACxRtd1kMOTawAAAABNBmkJJqEFsmUwId//+qZYAAJWAAAAADEGeYEUVLC//AACygQAAABABnp90Qr8ALF0A5/Wgcm1gAAAAEAGegWpCvwAsUbXdZDDk2sEAAAATQZqGSahBbJlMCHf//qmWAACVgAAAAAxBnqRFFSwv/wAAsoEAAAAQAZ7DdEK/ACxdAOf1oHJtYQAAABABnsVqQr8ALFG13WQw5NrBAAAAE0GaykmoQWyZTAh3//6plgAAlYEAAAAMQZ7oRRUsL/8AALKAAAAAEAGfB3RCvwAsXQDn9aBybWAAAAAQAZ8JakK/ACxRtd1kMOTawQAAABNBmw5JqEFsmUwId//+qZYAAJWAAAAADEGfLEUVLC//AACygAAAABABn0t0Qr8ALF0A5/Wgcm1hAAAAEAGfTWpCvwAsUbXdZDDk2sEAAAATQZtSSahBbJlMCHf//qmWAACVgQAAAAxBn3BFFSwv/wAAsoAAAAAQAZ+PdEK/ACxdAOf1oHJtYAAAABABn5FqQr8ALFG13WQw5NrBAAAAE0GblkmoQWyZTAh3//6plgAAlYAAAAAMQZ+0RRUsL/8AALKAAAAAEAGf03RCvwAsXQDn9aBybWEAAAAQAZ/VakK/ACxRtd1kMOTawAAAABNBm9pJqEFsmUwId//+qZYAAJWBAAAADEGf+EUVLC//AACygQAAABABnhd0Qr8ALF0A5/Wgcm1gAAAAEAGeGWpCvwAsUbXdZDDk2sEAAAATQZoeSahBbJlMCHf//qmWAACVgAAAAAxBnjxFFSwv/wAAsoEAAAAQAZ5bdEK/ACxdAOf1oHJtYQAAABABnl1qQr8ALFG13WQw5NrAAAAAE0GaQkmoQWyZTAh3//6plgAAlYAAAAAMQZ5gRRUsL/8AALKBAAAAEAGen3RCvwAsXQDn9aBybWAAAAAQAZ6BakK/ACxRtd1kMOTawQAAABNBmoZJqEFsmUwId//+qZYAAJWAAAAADEGepEUVLC//AACygQAAABABnsN0Qr8ALF0A5/Wgcm1hAAAAEAGexWpCvwAsUbXdZDDk2sEAAAATQZrKSahBbJlMCHf//qmWAACVgQAAAAxBnuhFFSwv/wAAsoAAAAAQAZ8HdEK/ACxdAOf1oHJtYAAAABABnwlqQr8ALFG13WQw5NrBAAAAE0GbDkmoQWyZTAh3//6plgAAlYAAAAAMQZ8sRRUsL/8AALKAAAAAEAGfS3RCvwAsXQDn9aBybWEAAAAQAZ9NakK/ACxRtd1kMOTawQAAABNBm1JJqEFsmUwId//+qZYAAJWBAAAADEGfcEUVLC//AACygAAAABABn490Qr8ALF0A5/Wgcm1gAAAAEAGfkWpCvwAsUbXdZDDk2sEAAAATQZuWSahBbJlMCHf//qmWAACVgAAAAAxBn7RFFSwv/wAAsoAAAAAQAZ/TdEK/ACxdAOf1oHJtYQAAABABn9VqQr8ALFG13WQw5NrAAAAAE0Gb2kmoQWyZTAh3//6plgAAlYEAAAAMQZ/4RRUsL/8AALKBAAAAEAGeF3RCvwAsXQDn9aBybWAAAAAQAZ4ZakK/ACxRtd1kMOTawQAAABNBmh5JqEFsmUwId//+qZYAAJWAAAAADEGePEUVLC//AACygQAAABABnlt0Qr8ALF0A5/Wgcm1hAAAAEAGeXWpCvwAsUbXdZDDk2sAAAAATQZpCSahBbJlMCHf//qmWAACVgAAAAAxBnmBFFSwv/wAAsoEAAAAQAZ6fdEK/ACxdAOf1oHJtYAAAABABnoFqQr8ALFG13WQw5NrBAAAAE0GahkmoQWyZTAh3//6plgAAlYAAAAAMQZ6kRRUsL/8AALKBAAAAEAGew3RCvwAsXQDn9aBybWEAAAAQAZ7FakK/ACxRtd1kMOTawQAAABNBmspJqEFsmUwId//+qZYAAJWBAAAADEGe6EUVLC//AACygAAAABABnwd0Qr8ALF0A5/Wgcm1gAAAAEAGfCWpCvwAsUbXdZDDk2sEAAAATQZsOSahBbJlMCHf//qmWAACVgAAAAAxBnyxFFSwv/wAAsoAAAAAQAZ9LdEK/ACxdAOf1oHJtYQAAABABn01qQr8ALFG13WQw5NrBAAAAE0GbUkmoQWyZTAh3//6plgAAlYEAAAAMQZ9wRRUsL/8AALKAAAAAEAGfj3RCvwAsXQDn9aBybWAAAAAQAZ+RakK/ACxRtd1kMOTawQAAABNBm5ZJqEFsmUwId//+qZYAAJWAAAAADEGftEUVLC//AACygAAAABABn9N0Qr8ALF0A5/Wgcm1hAAAAEAGf1WpCvwAsUbXdZDDk2sAAAAATQZvaSahBbJlMCHf//qmWAACVgQAAAAxBn/hFFSwv/wAAsoEAAAAQAZ4XdEK/ACxdAOf1oHJtYAAAABABnhlqQr8ALFG13WQw5NrBAAAAE0GaHkmoQWyZTAh3//6plgAAlYAAAAAMQZ48RRUsL/8AALKBAAAAEAGeW3RCvwAsXQDn9aBybWEAAAAQAZ5dakK/ACxRtd1kMOTawAAAABJBmkJJqEFsmUwIb//+p4QAAScAAAAMQZ5gRRUsL/8AALKBAAAAEAGen3RCvwAsXQDn9aBybWAAAAAQAZ6BakK/ACxRtd1kMOTawQAAABJBmoZJqEFsmUwIZ//+nhAABHwAAAAMQZ6kRRUsL/8AALKBAAAAEAGew3RCvwAsXQDn9aBybWEAAAAQAZ7FakK/ACxRtd1kMOTawQAAABpBmslLqEIQWyRGCCgH8gH9h4AhX/44QAARcQAAACdBnudFFSwr/wKvY+1BxN2qw0km5aqGByy1u8vfDsLtFGUKpCPjFYAAAAAiAZ8IakK/Aq9j7UHE3arDSSblqoYHLLW7zDIcu2DOYDhpYAAAC5htb292AAAAbG12aGQAAAAAAAAAAAAAAAAAAAPoAAAfkAABAAABAAAAAAAAAAAAAAAAAQAAAAAAAAAAAAAAAAAAAAEAAAAAAAAAAAAAAAAAAEAAAAAAAAAAAAAAAAAAAAAAAAAAAAAAAAAAAAAAAAACAAAKwnRyYWsAAABcdGtoZAAAAAMAAAAAAAAAAAAAAAEAAAAAAAAfkAAAAAAAAAAAAAAAAAAAAAAAAQAAAAAAAAAAAAAAAAAAAAEAAAAAAAAAAAAAAAAAAEAAAAABEAAAARAAAAAAACRlZHRzAAAAHGVsc3QAAAAAAAAAAQAAH5AAAAQAAAEAAAAACjptZGlhAAAAIG1kaGQAAAAAAAAAAAAAAAAAADIAAAGUAFXEAAAAAAAtaGRscgAAAAAAAAAAdmlkZQAAAAAAAAAAAAAAAFZpZGVvSGFuZGxlcgAAAAnlbWluZgAAABR2bWhkAAAAAQAAAAAAAAAAAAAAJGRpbmYAAAAcZHJlZgAAAAAAAAABAAAADHVybCAAAAABAAAJpXN0YmwAAACVc3RzZAAAAAAAAAABAAAAhWF2YzEAAAAAAAAAAQAAAAAAAAAAAAAAAAAAAAABEAEQAEgAAABIAAAAAAAAAAEAAAAAAAAAAAAAAAAAAAAAAAAAAAAAAAAAAAAAAAAAAAAY//8AAAAvYXZjQwH0AA3/4QAXZ/QADZGbKCIR0IAAAAMAgAAAGQeKFMsBAAVo6+PESAAAABhzdHRzAAAAAAAAAAEAAADKAAACAAAAABRzdHNzAAAAAAAAAAEAAAABAAAFcGN0dHMAAAAAAAAArAAAAAEAAAQAAAAAAQAACgAAAAABAAAEAAAAAAEAAAAAAAAAAQAAAgAAAAABAAAGAAAAAAEAAAIAAAAAAQAABgAAAAABAAACAAAAAAYAAAQAAAAAAQAABgAAAAABAAACAAAAAAcAAAQAAAAAAQAACAAAAAACAAACAAAAAAQAAAQAAAAAAQAABgAAAAABAAACAAAAAAEAAAgAAAAAAgAAAgAAAAAEAAAEAAAAAAEAAAgAAAAAAgAAAgAAAAACAAAEAAAAAAEAAAYAAAAAAQAAAgAAAAABAAAIAAAAAAIAAAIAAAAAAQAACAAAAAACAAACAAAAAAEAAAQAAAAAAQAACAAAAAACAAACAAAAAAUAAAQAAAAAAQAABgAAAAABAAACAAAAAAEAAAYAAAAAAQAAAgAAAAABAAAIAAAAAAIAAAIAAAAAAQAABgAAAAABAAACAAAAAAEAAAoAAAAAAQAABAAAAAABAAAAAAAAAAEAAAIAAAAAAQAACgAAAAABAAAEAAAAAAEAAAAAAAAAAQAAAgAAAAABAAAKAAAAAAEAAAQAAAAAAQAAAAAAAAABAAACAAAAAAEAAAoAAAAAAQAABAAAAAABAAAAAAAAAAEAAAIAAAAAAQAACgAAAAABAAAEAAAAAAEAAAAAAAAAAQAAAgAAAAABAAAKAAAAAAEAAAQAAAAAAQAAAAAAAAABAAACAAAAAAEAAAoAAAAAAQAABAAAAAABAAAAAAAAAAEAAAIAAAAAAQAACgAAAAABAAAEAAAAAAEAAAAAAAAAAQAAAgAAAAABAAAKAAAAAAEAAAQAAAAAAQAAAAAAAAABAAACAAAAAAEAAAoAAAAAAQAABAAAAAABAAAAAAAAAAEAAAIAAAAAAQAACgAAAAABAAAEAAAAAAEAAAAAAAAAAQAAAgAAAAABAAAKAAAAAAEAAAQAAAAAAQAAAAAAAAABAAACAAAAAAEAAAoAAAAAAQAABAAAAAABAAAAAAAAAAEAAAIAAAAAAQAACgAAAAABAAAEAAAAAAEAAAAAAAAAAQAAAgAAAAABAAAKAAAAAAEAAAQAAAAAAQAAAAAAAAABAAACAAAAAAEAAAoAAAAAAQAABAAAAAABAAAAAAAAAAEAAAIAAAAAAQAACgAAAAABAAAEAAAAAAEAAAAAAAAAAQAAAgAAAAABAAAKAAAAAAEAAAQAAAAAAQAAAAAAAAABAAACAAAAAAEAAAoAAAAAAQAABAAAAAABAAAAAAAAAAEAAAIAAAAAAQAACgAAAAABAAAEAAAAAAEAAAAAAAAAAQAAAgAAAAABAAAKAAAAAAEAAAQAAAAAAQAAAAAAAAABAAACAAAAAAEAAAoAAAAAAQAABAAAAAABAAAAAAAAAAEAAAIAAAAAAQAACgAAAAABAAAEAAAAAAEAAAAAAAAAAQAAAgAAAAABAAAKAAAAAAEAAAQAAAAAAQAAAAAAAAABAAACAAAAAAEAAAoAAAAAAQAABAAAAAABAAAAAAAAAAEAAAIAAAAAAQAACgAAAAABAAAEAAAAAAEAAAAAAAAAAQAAAgAAAAABAAAKAAAAAAEAAAQAAAAAAQAAAAAAAAABAAACAAAAAAEAAAoAAAAAAQAABAAAAAABAAAAAAAAAAEAAAIAAAAAAQAACgAAAAABAAAEAAAAAAEAAAAAAAAAAQAAAgAAAAABAAAKAAAAAAEAAAQAAAAAAQAAAAAAAAABAAACAAAAAAEAAAoAAAAAAQAABAAAAAABAAAAAAAAAAEAAAIAAAAAAQAACgAAAAABAAAEAAAAAAEAAAAAAAAAAQAAAgAAAAABAAAIAAAAAAIAAAIAAAAAHHN0c2MAAAAAAAAAAQAAAAEAAADKAAAAAQAAAzxzdHN6AAAAAAAAAAAAAADKAAAEcQAAAC8AAAAXAAAAFAAAABQAAAAkAAAAFAAAACUAAAAUAAAAHQAAABwAAAAcAAAAHAAAABwAAAAcAAAAJQAAABQAAAAdAAAAHAAAABwAAAAcAAAAHAAAABwAAAAdAAAAIAAAABcAAAAUAAAAHQAAABwAAAAcAAAAHQAAACIAAAAUAAAAHwAAABYAAAASAAAAHQAAAB0AAAAdAAAAHQAAACAAAAAXAAAAFAAAAB4AAAAdAAAAJQAAABQAAAA4AAAAGAAAABQAAAAzAAAAFwAAABQAAAAeAAAAIAAAABcAAAAUAAAAHQAAABwAAAAcAAAAHQAAAB0AAAAjAAAAFAAAACMAAAAUAAAAIQAAABYAAAAUAAAAIgAAABQAAAAfAAAAGQAAABQAAAAUAAAAIAAAABkAAAAUAAAAFAAAABcAAAAQAAAAFAAAABQAAAAXAAAAEAAAABQAAAAUAAAAFwAAABAAAAAUAAAAFAAAABcAAAAQAAAAFAAAABQAAAAXAAAAEAAAABQAAAAUAAAAFwAAABAAAAAUAAAAFAAAABcAAAAQAAAAFAAAABQAAAAXAAAAEAAAABQAAAAUAAAAFwAAABAAAAAUAAAAFAAAABcAAAAQAAAAFAAAABQAAAAXAAAAEAAAABQAAAAUAAAAFwAAABAAAAAUAAAAFAAAABcAAAAQAAAAFAAAABQAAAAXAAAAEAAAABQAAAAUAAAAFwAAABAAAAAUAAAAFAAAABcAAAAQAAAAFAAAABQAAAAXAAAAEAAAABQAAAAUAAAAFwAAABAAAAAUAAAAFAAAABcAAAAQAAAAFAAAABQAAAAXAAAAEAAAABQAAAAUAAAAFwAAABAAAAAUAAAAFAAAABcAAAAQAAAAFAAAABQAAAAXAAAAEAAAABQAAAAUAAAAFwAAABAAAAAUAAAAFAAAABcAAAAQAAAAFAAAABQAAAAXAAAAEAAAABQAAAAUAAAAFwAAABAAAAAUAAAAFAAAABcAAAAQAAAAFAAAABQAAAAWAAAAEAAAABQAAAAUAAAAFgAAABAAAAAUAAAAFAAAAB4AAAArAAAAJgAAABRzdGNvAAAAAAAAAAEAAAAwAAAAYnVkdGEAAABabWV0YQAAAAAAAAAhaGRscgAAAAAAAAAAbWRpcmFwcGwAAAAAAAAAAAAAAAAtaWxzdAAAACWpdG9vAAAAHWRhdGEAAAABAAAAAExhdmY1OC4yMC4xMDA=\" type=\"video/mp4\" />\n",
       "             </video>"
      ],
      "text/plain": [
       "<IPython.core.display.HTML object>"
      ]
     },
     "execution_count": 18,
     "metadata": {},
     "output_type": "execute_result"
    }
   ],
   "source": [
    "temperature_values = [0.1, 0.2, 0.3, 0.5, 0.8]\n",
    "for temp in temperature_values:\n",
    "    print(f\"Temperature {temp} (mean best achievable score: {size**2 * temp * 0.5:.2f})\")\n",
    "    env = Environment(grid_size=size, max_time=T, temperature=temp)\n",
    "    test(agent_cnn,env,epochs_test,prefix=f'cnn_test_temp{temp}_')\n",
    "    print(\"\\n\")\n",
    "HTML(\"\\n\".join(display_videos(f'cnn_test_temp{temp}_0.mp4') for temp in temperature_values))"
   ]
  },
  {
   "cell_type": "markdown",
   "metadata": {},
   "source": [
    "The algorithms tend to be blocked when the mouse cannot see any bonus, they then go round in circles and don't explore to find more bonuses. This is all the more a problem when there are few bonuses, ie when the temperature is low, as the probability of being far from a bonus is higher."
   ]
  },
  {
   "cell_type": "markdown",
   "metadata": {},
   "source": [
    "***\n",
    "\n",
    "The algorithm tends to not explore the map which can be an issue. We propose two ideas in order to encourage exploration:\n",
    "1. Incorporating a decreasing $\\epsilon$-greedy exploration. You can use the method ```set_epsilon```\n",
    "2. Append via the environment a new state that describes if a cell has been visited or not\n",
    "\n",
    "***\n",
    "__Question 10__ Design a new ```train_explore``` function and environment class ```EnvironmentExploring``` to tackle the issue of exploration.\n",
    "\n"
   ]
  },
  {
   "cell_type": "code",
   "execution_count": 19,
   "metadata": {
    "ExecuteTime": {
     "end_time": "2020-02-22T12:33:28.865909Z",
     "start_time": "2020-02-22T12:33:28.835868Z"
    }
   },
   "outputs": [],
   "source": [
    "def train_explore(agent,env,epoch,prefix='', epsilon_decrease=0.9):\n",
    "    # Number of won games\n",
    "    score = 0\n",
    "    loss = 0\n",
    "\n",
    "    for e in range(epoch):\n",
    "        agent.set_epsilon(agent.epsilon * epsilon_decrease)\n",
    "        # At each epoch, we restart to a fresh game and get the initial state\n",
    "        state = env.reset()\n",
    "        # This assumes that the games will terminate\n",
    "        game_over = False\n",
    "\n",
    "        win = 0\n",
    "        lose = 0\n",
    "\n",
    "        while not game_over:\n",
    "            # The agent performs an action\n",
    "            action = agent.act(state)\n",
    "\n",
    "            # Apply an action to the environment, get the next state, the reward\n",
    "            # and if the games end\n",
    "            prev_state = state\n",
    "            state, reward, game_over = env.act(action, train=True)\n",
    "\n",
    "            # Update the counters\n",
    "            if reward > 0:\n",
    "                win = win + reward\n",
    "            if reward < 0:\n",
    "                lose = lose - reward\n",
    "\n",
    "            # Apply the reinforcement strategy\n",
    "            loss = agent.reinforce(prev_state, state,  action, reward, game_over)\n",
    "\n",
    "        # Save as a mp4\n",
    "        if e % 10 == 0:\n",
    "            env.draw(prefix+str(e))\n",
    "\n",
    "        # Update stats\n",
    "        score += win-lose\n",
    "\n",
    "        print(\"Epoch {:03d}/{:03d} | Loss {:.4f} | Win/lose count {}/{:.1f} ({:.1f})\"\n",
    "              .format(e, epoch, loss, win, lose, win-lose))\n",
    "        agent.save(name_weights=prefix+'model.h5',name_model=prefix+'model.json')\n",
    "        \n",
    "class EnvironmentExploring(Environment):\n",
    "    def __init__(self, grid_size=10, max_time=500, temperature=0.1):\n",
    "        super(EnvironmentExploring, self).__init__(grid_size, max_time, temperature)\n",
    "        \n",
    "        self.malus_position = np.zeros_like(self.board)\n",
    "    \n",
    "    def act(self, action, train=False):\n",
    "        \"\"\"This function returns the new state, reward and decides if the\n",
    "        game ends.\"\"\"\n",
    "\n",
    "        self.get_frame(int(self.t))\n",
    "\n",
    "        self.position = np.zeros((self.grid_size, self.grid_size))\n",
    "\n",
    "        self.position[0:2,:]= -1\n",
    "        self.position[:,0:2] = -1\n",
    "        self.position[-2:, :] = -1\n",
    "        self.position[-2:, :] = -1\n",
    "\n",
    "        self.position[self.x, self.y] = 1\n",
    "        if action == 0:\n",
    "            if self.x == self.grid_size-3:\n",
    "                self.x = self.x-1\n",
    "            else:\n",
    "                self.x = self.x + 1\n",
    "        elif action == 1:\n",
    "            if self.x == 2:\n",
    "                self.x = self.x+1\n",
    "            else:\n",
    "                self.x = self.x-1\n",
    "        elif action == 2:\n",
    "            if self.y == self.grid_size - 3:\n",
    "                self.y = self.y - 1\n",
    "            else:\n",
    "                self.y = self.y + 1\n",
    "        elif action == 3:\n",
    "            if self.y == 2:\n",
    "                self.y = self.y + 1\n",
    "            else:\n",
    "                self.y = self.y - 1\n",
    "        else:\n",
    "            RuntimeError('Error: action not recognized')\n",
    "\n",
    "        self.t = self.t + 1\n",
    "        reward = self.board[self.x, self.y]\n",
    "        \n",
    "        if train:\n",
    "            reward -= self.malus_position[self.x, self.y]\n",
    "        self.malus_position[self.x, self.y] += 0.1\n",
    "        self.malus_position[self.x, self.y] = min(0.3, self.malus_position[self.x, self.y])\n",
    "        \n",
    "        self.board[self.x, self.y] = 0\n",
    "        game_over = self.t > self.max_time\n",
    "        state = np.concatenate((self.malus_position.reshape(self.grid_size, self.grid_size,1),\n",
    "                        self.board.reshape(self.grid_size, self.grid_size,1),\n",
    "                        self.position.reshape(self.grid_size, self.grid_size,1)),axis=2)\n",
    "        state = state[self.x-2:self.x+3,self.y-2:self.y+3,:]\n",
    "\n",
    "        return state, reward, game_over\n",
    "    \n",
    "    def reset(self):\n",
    "        \"\"\"This function resets the game and returns the initial state\"\"\"\n",
    "\n",
    "        self.x = np.random.randint(3, self.grid_size-3, size=1)[0]\n",
    "        self.y = np.random.randint(3, self.grid_size-3, size=1)[0]\n",
    "        self.malus_position = np.zeros_like(self.board)\n",
    "\n",
    "        bonus = 0.5*np.random.binomial(1,self.temperature,size=self.grid_size**2)\n",
    "        bonus = bonus.reshape(self.grid_size,self.grid_size)\n",
    "\n",
    "        malus = -1.0*np.random.binomial(1,self.temperature,size=self.grid_size**2)\n",
    "        malus = malus.reshape(self.grid_size, self.grid_size)\n",
    "\n",
    "        self.to_draw = np.zeros((self.max_time+2, self.grid_size*self.scale, self.grid_size*self.scale, 3))\n",
    "\n",
    "\n",
    "        malus[bonus>0]=0\n",
    "\n",
    "        self.board = bonus + malus\n",
    "\n",
    "        self.position = np.zeros((self.grid_size, self.grid_size))\n",
    "        self.position[0:2,:]= -1\n",
    "        self.position[:,0:2] = -1\n",
    "        self.position[-2:, :] = -1\n",
    "        self.position[-2:, :] = -1\n",
    "        self.board[self.x,self.y] = 0\n",
    "        self.t = 0\n",
    "\n",
    "        state = np.concatenate((self.malus_position.reshape(self.grid_size, self.grid_size,1),\n",
    "                               self.board.reshape(self.grid_size, self.grid_size,1),\n",
    "                        self.position.reshape(self.grid_size, self.grid_size,1)),axis=2)\n",
    "\n",
    "        state = state[self.x - 2:self.x + 3, self.y - 2:self.y + 3, :]\n",
    "        return state\n",
    "    \n",
    "## use those samples of code:\n",
    "#In train explore:\n",
    "#state, reward, game_over = env.act(action, train=True)\n",
    "\n",
    "## In Environment exploring:\n",
    "# You will have to change n_state to 3 because you will use one more layer!\n",
    "# reward = 0\n",
    "# if train:\n",
    "#     reward = -self.malus_position[self.x, self.y]\n",
    "# self.malus_position[self.x, self.y] = 0.1\n",
    "\n",
    "# reward = reward + self.board[self.x, self.y]\n",
    "# # 3 \"feature\" states instead of 2\n",
    "# state = np.concatenate((self.malus_position.reshape(self.grid_size, self.grid_size,1),\n",
    "#                                 self.board.reshape(self.grid_size, self.grid_size,1),\n",
    "#                         self.position.reshape(self.grid_size, self.grid_size,1)),axis=2)"
   ]
  },
  {
   "cell_type": "code",
   "execution_count": 20,
   "metadata": {
    "ExecuteTime": {
     "end_time": "2020-02-22T12:34:25.354256Z",
     "start_time": "2020-02-22T12:33:28.867499Z"
    }
   },
   "outputs": [
    {
     "name": "stdout",
     "output_type": "stream",
     "text": [
      "Epoch 000/051 | Loss 0.0096 | Win/lose count 7.0/48.2 (-41.2)\n",
      "Epoch 001/051 | Loss 0.0070 | Win/lose count 8.0/49.5 (-41.5)\n",
      "Epoch 002/051 | Loss 0.0072 | Win/lose count 2.5/52.8 (-50.3)\n",
      "Epoch 003/051 | Loss 0.0121 | Win/lose count 8.5/44.1 (-35.6)\n",
      "Epoch 004/051 | Loss 0.0039 | Win/lose count 3.5/53.1 (-49.6)\n",
      "Epoch 005/051 | Loss 0.0120 | Win/lose count 5.0/50.8 (-45.8)\n",
      "Epoch 006/051 | Loss 0.0073 | Win/lose count 5.5/50.7 (-45.2)\n",
      "Epoch 007/051 | Loss 0.0110 | Win/lose count 3.0/50.1 (-47.1)\n",
      "Epoch 008/051 | Loss 0.0053 | Win/lose count 9.5/39.4 (-29.9)\n",
      "Epoch 009/051 | Loss 0.0063 | Win/lose count 12.0/40.9 (-28.9)\n",
      "Epoch 010/051 | Loss 0.0189 | Win/lose count 13.0/37.0 (-24.0)\n",
      "Epoch 011/051 | Loss 0.0090 | Win/lose count 4.5/50.8 (-46.3)\n",
      "Epoch 012/051 | Loss 0.0037 | Win/lose count 9.0/45.3 (-36.3)\n",
      "Epoch 013/051 | Loss 0.0048 | Win/lose count 12.5/38.9 (-26.4)\n",
      "Epoch 014/051 | Loss 0.0088 | Win/lose count 9.5/40.0 (-30.5)\n",
      "Epoch 015/051 | Loss 0.0124 | Win/lose count 10.0/42.0 (-32.0)\n",
      "Epoch 016/051 | Loss 0.0064 | Win/lose count 11.0/31.1 (-20.1)\n",
      "Epoch 017/051 | Loss 0.0075 | Win/lose count 13.0/42.7 (-29.7)\n",
      "Epoch 018/051 | Loss 0.0039 | Win/lose count 12.5/31.0 (-18.5)\n",
      "Epoch 019/051 | Loss 0.0021 | Win/lose count 12.5/38.3 (-25.8)\n",
      "Epoch 020/051 | Loss 0.0034 | Win/lose count 10.5/42.2 (-31.7)\n",
      "Epoch 021/051 | Loss 0.0027 | Win/lose count 22.0/23.9 (-1.9)\n",
      "Epoch 022/051 | Loss 0.0033 | Win/lose count 23.5/17.1 (6.4)\n",
      "Epoch 023/051 | Loss 0.0026 | Win/lose count 14.0/28.9 (-14.9)\n",
      "Epoch 024/051 | Loss 0.0036 | Win/lose count 13.0/28.3 (-15.3)\n",
      "Epoch 025/051 | Loss 0.0023 | Win/lose count 14.5/25.2 (-10.7)\n",
      "Epoch 026/051 | Loss 0.0036 | Win/lose count 3.5/49.0 (-45.5)\n",
      "Epoch 027/051 | Loss 0.0051 | Win/lose count 25.0/19.2 (5.8)\n",
      "Epoch 028/051 | Loss 0.0068 | Win/lose count 6.5/45.0 (-38.5)\n",
      "Epoch 029/051 | Loss 0.0072 | Win/lose count 18.5/18.3 (0.2)\n",
      "Epoch 030/051 | Loss 0.0020 | Win/lose count 21.5/22.8 (-1.3)\n",
      "Epoch 031/051 | Loss 0.0016 | Win/lose count 25.0/15.5 (9.5)\n",
      "Epoch 032/051 | Loss 0.0122 | Win/lose count 16.0/31.6 (-15.6)\n",
      "Epoch 033/051 | Loss 0.0026 | Win/lose count 19.0/30.1 (-11.1)\n",
      "Epoch 034/051 | Loss 0.0098 | Win/lose count 10.5/35.1 (-24.6)\n",
      "Epoch 035/051 | Loss 0.0139 | Win/lose count 16.5/32.2 (-15.7)\n",
      "Epoch 036/051 | Loss 0.0012 | Win/lose count 18.5/23.0 (-4.5)\n",
      "Epoch 037/051 | Loss 0.0019 | Win/lose count 18.5/28.3 (-9.8)\n",
      "Epoch 038/051 | Loss 0.0020 | Win/lose count 20.5/19.8 (0.7)\n",
      "Epoch 039/051 | Loss 0.0020 | Win/lose count 20.0/24.6 (-4.6)\n",
      "Epoch 040/051 | Loss 0.0012 | Win/lose count 22.5/15.9 (6.6)\n",
      "Epoch 041/051 | Loss 0.0009 | Win/lose count 21.0/12.7 (8.3)\n",
      "Epoch 042/051 | Loss 0.0134 | Win/lose count 17.5/19.7 (-2.2)\n",
      "Epoch 043/051 | Loss 0.0013 | Win/lose count 23.5/19.9 (3.6)\n",
      "Epoch 044/051 | Loss 0.0009 | Win/lose count 2.0/47.3 (-45.3)\n",
      "Epoch 045/051 | Loss 0.0016 | Win/lose count 19.0/28.7 (-9.7)\n",
      "Epoch 046/051 | Loss 0.0032 | Win/lose count 24.0/18.2 (5.8)\n",
      "Epoch 047/051 | Loss 0.0017 | Win/lose count 23.5/13.6 (9.9)\n",
      "Epoch 048/051 | Loss 0.0010 | Win/lose count 25.0/20.7 (4.3)\n",
      "Epoch 049/051 | Loss 0.0028 | Win/lose count 15.5/33.8 (-18.3)\n",
      "Epoch 050/051 | Loss 0.0013 | Win/lose count 19.5/17.3 (2.2)\n"
     ]
    },
    {
     "data": {
      "text/html": [
       "<video alt=\"test\" controls>\n",
       "                <source src=\"data:video/mp4;base64,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\" type=\"video/mp4\" />\n",
       "             </video>"
      ],
      "text/plain": [
       "<IPython.core.display.HTML object>"
      ]
     },
     "execution_count": 20,
     "metadata": {},
     "output_type": "execute_result"
    }
   ],
   "source": [
    "# Training\n",
    "env = EnvironmentExploring(grid_size=size, max_time=T, temperature=temperature)\n",
    "agent = DQN_CNN(size, lr=.1, epsilon = 0.2, memory_size=2000, batch_size=32, n_state=3)\n",
    "train_explore(agent, env, epochs_train, prefix='cnn_train_explore', epsilon_decrease=0.95)\n",
    "HTML(display_videos('cnn_train_explore10.mp4'))"
   ]
  },
  {
   "cell_type": "code",
   "execution_count": 21,
   "metadata": {
    "ExecuteTime": {
     "end_time": "2020-02-22T12:34:33.588583Z",
     "start_time": "2020-02-22T12:34:25.356010Z"
    }
   },
   "outputs": [
    {
     "name": "stdout",
     "output_type": "stream",
     "text": [
      "Win/lose count 22.5/2.0. Average score (20.50)\n",
      "Win/lose count 23.5/0. Average score (22.00)\n",
      "Win/lose count 17.0/1.0. Average score (20.00)\n",
      "Win/lose count 24.0/2.0. Average score (20.50)\n",
      "Win/lose count 19.0/0. Average score (20.20)\n",
      "Win/lose count 11.5/0. Average score (18.75)\n",
      "Win/lose count 22.0/1.0. Average score (19.07)\n",
      "Win/lose count 9.5/0. Average score (17.88)\n",
      "Win/lose count 22.0/0. Average score (18.33)\n",
      "Win/lose count 14.5/0. Average score (17.95)\n",
      "Win/lose count 26.5/1.0. Average score (18.64)\n",
      "Final score: 18.64 (mean best achievable score: 25.35)\n",
      "73.52%\n"
     ]
    },
    {
     "data": {
      "text/html": [
       "<video alt=\"test\" controls>\n",
       "                <source src=\"data:video/mp4;base64,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\" type=\"video/mp4\" />\n",
       "             </video>"
      ],
      "text/plain": [
       "<IPython.core.display.HTML object>"
      ]
     },
     "execution_count": 21,
     "metadata": {},
     "output_type": "execute_result"
    }
   ],
   "source": [
    "# Evaluation\n",
    "env = EnvironmentExploring(grid_size=size, max_time=T, temperature=temperature)\n",
    "test(agent,env,epochs_test,prefix='cnn_test_explore')\n",
    "HTML(display_videos('cnn_test_explore0.mp4'))"
   ]
  },
  {
   "cell_type": "code",
   "execution_count": 22,
   "metadata": {
    "ExecuteTime": {
     "end_time": "2020-02-22T12:35:14.547137Z",
     "start_time": "2020-02-22T12:34:33.590510Z"
    },
    "scrolled": false
   },
   "outputs": [
    {
     "name": "stdout",
     "output_type": "stream",
     "text": [
      "Temperature 0.1 (mean best achievable score: 8.45)\n",
      "Win/lose count 7.0/1.0. Average score (6.00)\n",
      "Win/lose count 9.0/0. Average score (7.50)\n",
      "Win/lose count 8.0/0. Average score (7.67)\n",
      "Win/lose count 6.5/0. Average score (7.38)\n",
      "Win/lose count 5.5/0. Average score (7.00)\n",
      "Win/lose count 5.0/1.0. Average score (6.50)\n",
      "Win/lose count 8.5/0. Average score (6.79)\n",
      "Win/lose count 9.5/0. Average score (7.12)\n",
      "Win/lose count 9.0/0. Average score (7.33)\n",
      "Win/lose count 9.5/0. Average score (7.55)\n",
      "Win/lose count 9.5/0. Average score (7.73)\n",
      "Final score: 7.73 (mean best achievable score: 8.45)\n",
      "91.45%\n",
      "\n",
      "\n",
      "Temperature 0.2 (mean best achievable score: 16.90)\n",
      "Win/lose count 15.5/0. Average score (15.50)\n",
      "Win/lose count 9.0/0. Average score (12.25)\n",
      "Win/lose count 14.5/1.0. Average score (12.67)\n",
      "Win/lose count 9.0/0. Average score (11.75)\n",
      "Win/lose count 9.0/0. Average score (11.20)\n",
      "Win/lose count 10.0/0. Average score (11.00)\n",
      "Win/lose count 13.0/0. Average score (11.29)\n",
      "Win/lose count 9.0/0. Average score (11.00)\n",
      "Win/lose count 15.5/0. Average score (11.50)\n",
      "Win/lose count 11.5/0. Average score (11.50)\n",
      "Win/lose count 7.5/0. Average score (11.14)\n",
      "Final score: 11.14 (mean best achievable score: 16.90)\n",
      "65.90%\n",
      "\n",
      "\n",
      "Temperature 0.3 (mean best achievable score: 25.35)\n",
      "Win/lose count 29.0/1.0. Average score (28.00)\n",
      "Win/lose count 25.0/1.0. Average score (26.00)\n",
      "Win/lose count 19.0/1.0. Average score (23.33)\n",
      "Win/lose count 23.5/1.0. Average score (23.12)\n",
      "Win/lose count 24.5/0. Average score (23.40)\n",
      "Win/lose count 25.0/0. Average score (23.67)\n",
      "Win/lose count 30.0/0. Average score (24.57)\n",
      "Win/lose count 20.0/0. Average score (24.00)\n",
      "Win/lose count 16.0/0. Average score (23.11)\n",
      "Win/lose count 20.0/1.0. Average score (22.70)\n",
      "Win/lose count 10.5/0. Average score (21.59)\n",
      "Final score: 21.59 (mean best achievable score: 25.35)\n",
      "85.17%\n",
      "\n",
      "\n",
      "Temperature 0.5 (mean best achievable score: 42.25)\n",
      "Win/lose count 20.0/0. Average score (20.00)\n",
      "Win/lose count 21.5/0. Average score (20.75)\n",
      "Win/lose count 20.5/1.0. Average score (20.33)\n",
      "Win/lose count 11.5/0. Average score (18.12)\n",
      "Win/lose count 25.0/2.0. Average score (19.10)\n",
      "Win/lose count 36.5/2.0. Average score (21.67)\n",
      "Win/lose count 15.5/0. Average score (20.79)\n",
      "Win/lose count 35.0/0. Average score (22.56)\n",
      "Win/lose count 24.0/0. Average score (22.72)\n",
      "Win/lose count 28.0/1.0. Average score (23.15)\n",
      "Win/lose count 21.5/0. Average score (23.00)\n",
      "Final score: 23.00 (mean best achievable score: 42.25)\n",
      "54.44%\n",
      "\n",
      "\n",
      "Temperature 0.8 (mean best achievable score: 67.60)\n",
      "Win/lose count 66.0/0. Average score (66.00)\n",
      "Win/lose count 61.0/0. Average score (63.50)\n",
      "Win/lose count 61.5/0. Average score (62.83)\n",
      "Win/lose count 37.5/0. Average score (56.50)\n",
      "Win/lose count 47.0/0. Average score (54.60)\n",
      "Win/lose count 58.5/0. Average score (55.25)\n",
      "Win/lose count 52.5/3.0. Average score (54.43)\n",
      "Win/lose count 62.5/0. Average score (55.44)\n",
      "Win/lose count 41.5/0. Average score (53.89)\n",
      "Win/lose count 68.0/1.0. Average score (55.20)\n",
      "Win/lose count 60.5/0. Average score (55.68)\n",
      "Final score: 55.68 (mean best achievable score: 67.60)\n",
      "82.37%\n",
      "\n",
      "\n"
     ]
    },
    {
     "data": {
      "text/html": [
       "<video alt=\"test\" controls>\n",
       "                <source src=\"data:video/mp4;base64,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\" type=\"video/mp4\" />\n",
       "             </video>\n",
       "<video alt=\"test\" controls>\n",
       "                <source src=\"data:video/mp4;base64,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\" type=\"video/mp4\" />\n",
       "             </video>\n",
       "<video alt=\"test\" controls>\n",
       "                <source src=\"data:video/mp4;base64,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\" type=\"video/mp4\" />\n",
       "             </video>\n",
       "<video alt=\"test\" controls>\n",
       "                <source src=\"data:video/mp4;base64,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\" type=\"video/mp4\" />\n",
       "             </video>\n",
       "<video alt=\"test\" controls>\n",
       "                <source src=\"data:video/mp4;base64,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\" type=\"video/mp4\" />\n",
       "             </video>"
      ],
      "text/plain": [
       "<IPython.core.display.HTML object>"
      ]
     },
     "execution_count": 22,
     "metadata": {},
     "output_type": "execute_result"
    }
   ],
   "source": [
    "temperature_values = [0.1, 0.2, 0.3, 0.5, 0.8]\n",
    "for temp in temperature_values:\n",
    "    print(f\"Temperature {temp} (mean best achievable score: {size**2 * temp * 0.5:.2f})\")\n",
    "    env = EnvironmentExploring(grid_size=size, max_time=T, temperature=temp)\n",
    "    test(agent,env,epochs_test,prefix=f'cnn_test_temp{temp}_')\n",
    "    print(\"\\n\")\n",
    "HTML(\"\\n\".join(display_videos(f'cnn_test_temp{temp}_0.mp4') for temp in temperature_values))"
   ]
  },
  {
   "cell_type": "markdown",
   "metadata": {},
   "source": [
    "The results are much better with exploration, even if the mouse can still stay blocked sometimes when it has already visited all nerby cells. To reduce this phenomenon, I chose to increase the position malus each time the mouse pass through a cell, with a maximum malus of 0.3 (so that it's always better to go through a cell again than to take a malus). Moreover, the decreasing epsilon allows to choose a higher starting epsilon to explore at the beginning while tending to exploitation as epochs go by."
   ]
  },
  {
   "cell_type": "markdown",
   "metadata": {},
   "source": [
    "***"
   ]
  }
 ],
 "metadata": {
  "kernelspec": {
   "display_name": "Python 3",
   "language": "python",
   "name": "python3"
  },
  "language_info": {
   "codemirror_mode": {
    "name": "ipython",
    "version": 3
   },
   "file_extension": ".py",
   "mimetype": "text/x-python",
   "name": "python",
   "nbconvert_exporter": "python",
   "pygments_lexer": "ipython3",
   "version": "3.7.6"
  }
 },
 "nbformat": 4,
 "nbformat_minor": 2
}
